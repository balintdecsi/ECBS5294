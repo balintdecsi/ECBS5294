{
 "cells": [
  {
   "cell_type": "markdown",
   "metadata": {},
   "source": [
    "# Homework 1: SQL Foundations with DuckDB\n",
    "\n",
    "**Name:** Bálint Décsi  \n",
    "**Due:** 19 Oct, 1:30 pm  \n",
    "**Total Points:** 100 (+ 10 bonus)\n",
    "\n",
    "---\n",
    "\n",
    "## Instructions\n",
    "\n",
    "1. Complete all TODO sections below\n",
    "2. Write SQL queries to answer each question\n",
    "3. Add markdown explanations where requested\n",
    "4. Before submitting: **Kernel → Restart & Run All Cells**\n",
    "5. Verify all outputs are visible\n",
    "6. Rename file to `hw1_[your_name].ipynb`\n",
    "\n",
    "**Read the README.md for full assignment details, rubric, and tips!**\n",
    "\n",
    "---"
   ]
  },
  {
   "cell_type": "markdown",
   "metadata": {},
   "source": [
    "## Setup\n",
    "\n",
    "Run these cells to set up your environment."
   ]
  },
  {
   "cell_type": "code",
   "execution_count": 1,
   "metadata": {},
   "outputs": [
    {
     "name": "stdout",
     "output_type": "stream",
     "text": [
      "✅ Libraries imported successfully!\n"
     ]
    }
   ],
   "source": [
    "# Import libraries\n",
    "import duckdb\n",
    "import pandas as pd\n",
    "import numpy as np\n",
    "import warnings\n",
    "\n",
    "warnings.filterwarnings('ignore')\n",
    "\n",
    "print(\"✅ Libraries imported successfully!\")"
   ]
  },
  {
   "cell_type": "code",
   "execution_count": 2,
   "metadata": {},
   "outputs": [
    {
     "name": "stdout",
     "output_type": "stream",
     "text": [
      "✅ Connected to DuckDB!\n"
     ]
    }
   ],
   "source": [
    "# Connect to DuckDB\n",
    "con = duckdb.connect(':memory:')\n",
    "\n",
    "print(\"✅ Connected to DuckDB!\")"
   ]
  },
  {
   "cell_type": "code",
   "execution_count": 3,
   "metadata": {},
   "outputs": [
    {
     "name": "stdout",
     "output_type": "stream",
     "text": [
      "✅ Dataset loaded!\n"
     ]
    }
   ],
   "source": [
    "# Load the Online Retail dataset\n",
    "# This creates a table called 'retail' that you'll query\n",
    "con.execute(\"\"\"\n",
    "    CREATE TABLE retail AS \n",
    "    SELECT * FROM 'data/online_retail_hw1.csv'\n",
    "\"\"\")\n",
    "\n",
    "print(\"✅ Dataset loaded!\")"
   ]
  },
  {
   "cell_type": "markdown",
   "metadata": {},
   "source": [
    "### Dataset Exploration\n",
    "\n",
    "Let's explore the data before starting the assignment."
   ]
  },
  {
   "cell_type": "code",
   "execution_count": 4,
   "metadata": {},
   "outputs": [
    {
     "data": {
      "application/vnd.microsoft.datawrangler.viewer.v0+json": {
       "columns": [
        {
         "name": "index",
         "rawType": "int64",
         "type": "integer"
        },
        {
         "name": "total_rows",
         "rawType": "int64",
         "type": "integer"
        }
       ],
       "ref": "fa1da072-041c-45db-ba2e-d80775d178c2",
       "rows": [
        [
         "0",
         "525461"
        ]
       ],
       "shape": {
        "columns": 1,
        "rows": 1
       }
      },
      "text/html": [
       "<div>\n",
       "<style scoped>\n",
       "    .dataframe tbody tr th:only-of-type {\n",
       "        vertical-align: middle;\n",
       "    }\n",
       "\n",
       "    .dataframe tbody tr th {\n",
       "        vertical-align: top;\n",
       "    }\n",
       "\n",
       "    .dataframe thead th {\n",
       "        text-align: right;\n",
       "    }\n",
       "</style>\n",
       "<table border=\"1\" class=\"dataframe\">\n",
       "  <thead>\n",
       "    <tr style=\"text-align: right;\">\n",
       "      <th></th>\n",
       "      <th>total_rows</th>\n",
       "    </tr>\n",
       "  </thead>\n",
       "  <tbody>\n",
       "    <tr>\n",
       "      <th>0</th>\n",
       "      <td>525461</td>\n",
       "    </tr>\n",
       "  </tbody>\n",
       "</table>\n",
       "</div>"
      ],
      "text/plain": [
       "   total_rows\n",
       "0      525461"
      ]
     },
     "execution_count": 4,
     "metadata": {},
     "output_type": "execute_result"
    }
   ],
   "source": [
    "# Check row count\n",
    "con.execute(\"SELECT COUNT(*) as total_rows FROM retail\").df()"
   ]
  },
  {
   "cell_type": "code",
   "execution_count": 5,
   "metadata": {},
   "outputs": [
    {
     "data": {
      "application/vnd.microsoft.datawrangler.viewer.v0+json": {
       "columns": [
        {
         "name": "index",
         "rawType": "int64",
         "type": "integer"
        },
        {
         "name": "Invoice",
         "rawType": "object",
         "type": "string"
        },
        {
         "name": "StockCode",
         "rawType": "object",
         "type": "string"
        },
        {
         "name": "Description",
         "rawType": "object",
         "type": "string"
        },
        {
         "name": "Quantity",
         "rawType": "int64",
         "type": "integer"
        },
        {
         "name": "InvoiceDate",
         "rawType": "datetime64[us]",
         "type": "unknown"
        },
        {
         "name": "Price",
         "rawType": "float64",
         "type": "float"
        },
        {
         "name": "Customer ID",
         "rawType": "float64",
         "type": "float"
        },
        {
         "name": "Country",
         "rawType": "object",
         "type": "string"
        }
       ],
       "ref": "5d834e40-331a-4e8e-ba33-7fdd9493cdd6",
       "rows": [
        [
         "0",
         "489434",
         "85048",
         "15CM CHRISTMAS GLASS BALL 20 LIGHTS",
         "12",
         "2009-12-01 07:45:00",
         "6.95",
         "13085.0",
         "United Kingdom"
        ],
        [
         "1",
         "489434",
         "79323P",
         "PINK CHERRY LIGHTS",
         "12",
         "2009-12-01 07:45:00",
         "6.75",
         "13085.0",
         "United Kingdom"
        ],
        [
         "2",
         "489434",
         "79323W",
         " WHITE CHERRY LIGHTS",
         "12",
         "2009-12-01 07:45:00",
         "6.75",
         "13085.0",
         "United Kingdom"
        ],
        [
         "3",
         "489434",
         "22041",
         "RECORD FRAME 7\" SINGLE SIZE ",
         "48",
         "2009-12-01 07:45:00",
         "2.1",
         "13085.0",
         "United Kingdom"
        ],
        [
         "4",
         "489434",
         "21232",
         "STRAWBERRY CERAMIC TRINKET BOX",
         "24",
         "2009-12-01 07:45:00",
         "1.25",
         "13085.0",
         "United Kingdom"
        ]
       ],
       "shape": {
        "columns": 8,
        "rows": 5
       }
      },
      "text/html": [
       "<div>\n",
       "<style scoped>\n",
       "    .dataframe tbody tr th:only-of-type {\n",
       "        vertical-align: middle;\n",
       "    }\n",
       "\n",
       "    .dataframe tbody tr th {\n",
       "        vertical-align: top;\n",
       "    }\n",
       "\n",
       "    .dataframe thead th {\n",
       "        text-align: right;\n",
       "    }\n",
       "</style>\n",
       "<table border=\"1\" class=\"dataframe\">\n",
       "  <thead>\n",
       "    <tr style=\"text-align: right;\">\n",
       "      <th></th>\n",
       "      <th>Invoice</th>\n",
       "      <th>StockCode</th>\n",
       "      <th>Description</th>\n",
       "      <th>Quantity</th>\n",
       "      <th>InvoiceDate</th>\n",
       "      <th>Price</th>\n",
       "      <th>Customer ID</th>\n",
       "      <th>Country</th>\n",
       "    </tr>\n",
       "  </thead>\n",
       "  <tbody>\n",
       "    <tr>\n",
       "      <th>0</th>\n",
       "      <td>489434</td>\n",
       "      <td>85048</td>\n",
       "      <td>15CM CHRISTMAS GLASS BALL 20 LIGHTS</td>\n",
       "      <td>12</td>\n",
       "      <td>2009-12-01 07:45:00</td>\n",
       "      <td>6.95</td>\n",
       "      <td>13085.0</td>\n",
       "      <td>United Kingdom</td>\n",
       "    </tr>\n",
       "    <tr>\n",
       "      <th>1</th>\n",
       "      <td>489434</td>\n",
       "      <td>79323P</td>\n",
       "      <td>PINK CHERRY LIGHTS</td>\n",
       "      <td>12</td>\n",
       "      <td>2009-12-01 07:45:00</td>\n",
       "      <td>6.75</td>\n",
       "      <td>13085.0</td>\n",
       "      <td>United Kingdom</td>\n",
       "    </tr>\n",
       "    <tr>\n",
       "      <th>2</th>\n",
       "      <td>489434</td>\n",
       "      <td>79323W</td>\n",
       "      <td>WHITE CHERRY LIGHTS</td>\n",
       "      <td>12</td>\n",
       "      <td>2009-12-01 07:45:00</td>\n",
       "      <td>6.75</td>\n",
       "      <td>13085.0</td>\n",
       "      <td>United Kingdom</td>\n",
       "    </tr>\n",
       "    <tr>\n",
       "      <th>3</th>\n",
       "      <td>489434</td>\n",
       "      <td>22041</td>\n",
       "      <td>RECORD FRAME 7\" SINGLE SIZE</td>\n",
       "      <td>48</td>\n",
       "      <td>2009-12-01 07:45:00</td>\n",
       "      <td>2.10</td>\n",
       "      <td>13085.0</td>\n",
       "      <td>United Kingdom</td>\n",
       "    </tr>\n",
       "    <tr>\n",
       "      <th>4</th>\n",
       "      <td>489434</td>\n",
       "      <td>21232</td>\n",
       "      <td>STRAWBERRY CERAMIC TRINKET BOX</td>\n",
       "      <td>24</td>\n",
       "      <td>2009-12-01 07:45:00</td>\n",
       "      <td>1.25</td>\n",
       "      <td>13085.0</td>\n",
       "      <td>United Kingdom</td>\n",
       "    </tr>\n",
       "  </tbody>\n",
       "</table>\n",
       "</div>"
      ],
      "text/plain": [
       "  Invoice StockCode                          Description  Quantity  \\\n",
       "0  489434     85048  15CM CHRISTMAS GLASS BALL 20 LIGHTS        12   \n",
       "1  489434    79323P                   PINK CHERRY LIGHTS        12   \n",
       "2  489434    79323W                  WHITE CHERRY LIGHTS        12   \n",
       "3  489434     22041         RECORD FRAME 7\" SINGLE SIZE         48   \n",
       "4  489434     21232       STRAWBERRY CERAMIC TRINKET BOX        24   \n",
       "\n",
       "          InvoiceDate  Price  Customer ID         Country  \n",
       "0 2009-12-01 07:45:00   6.95      13085.0  United Kingdom  \n",
       "1 2009-12-01 07:45:00   6.75      13085.0  United Kingdom  \n",
       "2 2009-12-01 07:45:00   6.75      13085.0  United Kingdom  \n",
       "3 2009-12-01 07:45:00   2.10      13085.0  United Kingdom  \n",
       "4 2009-12-01 07:45:00   1.25      13085.0  United Kingdom  "
      ]
     },
     "execution_count": 5,
     "metadata": {},
     "output_type": "execute_result"
    }
   ],
   "source": [
    "# View first few rows\n",
    "con.execute(\"SELECT * FROM retail LIMIT 5\").df()"
   ]
  },
  {
   "cell_type": "code",
   "execution_count": 6,
   "metadata": {},
   "outputs": [
    {
     "data": {
      "application/vnd.microsoft.datawrangler.viewer.v0+json": {
       "columns": [
        {
         "name": "index",
         "rawType": "int64",
         "type": "integer"
        },
        {
         "name": "invoice_nulls",
         "rawType": "int64",
         "type": "integer"
        },
        {
         "name": "stockcode_nulls",
         "rawType": "int64",
         "type": "integer"
        },
        {
         "name": "description_nulls",
         "rawType": "int64",
         "type": "integer"
        },
        {
         "name": "quantity_nulls",
         "rawType": "int64",
         "type": "integer"
        },
        {
         "name": "date_nulls",
         "rawType": "int64",
         "type": "integer"
        },
        {
         "name": "price_nulls",
         "rawType": "int64",
         "type": "integer"
        },
        {
         "name": "customerid_nulls",
         "rawType": "int64",
         "type": "integer"
        },
        {
         "name": "country_nulls",
         "rawType": "int64",
         "type": "integer"
        }
       ],
       "ref": "3f9f5b6c-42dd-4eb6-9e45-61909d4ff9cf",
       "rows": [
        [
         "0",
         "0",
         "0",
         "2928",
         "0",
         "0",
         "0",
         "107927",
         "0"
        ]
       ],
       "shape": {
        "columns": 8,
        "rows": 1
       }
      },
      "text/html": [
       "<div>\n",
       "<style scoped>\n",
       "    .dataframe tbody tr th:only-of-type {\n",
       "        vertical-align: middle;\n",
       "    }\n",
       "\n",
       "    .dataframe tbody tr th {\n",
       "        vertical-align: top;\n",
       "    }\n",
       "\n",
       "    .dataframe thead th {\n",
       "        text-align: right;\n",
       "    }\n",
       "</style>\n",
       "<table border=\"1\" class=\"dataframe\">\n",
       "  <thead>\n",
       "    <tr style=\"text-align: right;\">\n",
       "      <th></th>\n",
       "      <th>invoice_nulls</th>\n",
       "      <th>stockcode_nulls</th>\n",
       "      <th>description_nulls</th>\n",
       "      <th>quantity_nulls</th>\n",
       "      <th>date_nulls</th>\n",
       "      <th>price_nulls</th>\n",
       "      <th>customerid_nulls</th>\n",
       "      <th>country_nulls</th>\n",
       "    </tr>\n",
       "  </thead>\n",
       "  <tbody>\n",
       "    <tr>\n",
       "      <th>0</th>\n",
       "      <td>0</td>\n",
       "      <td>0</td>\n",
       "      <td>2928</td>\n",
       "      <td>0</td>\n",
       "      <td>0</td>\n",
       "      <td>0</td>\n",
       "      <td>107927</td>\n",
       "      <td>0</td>\n",
       "    </tr>\n",
       "  </tbody>\n",
       "</table>\n",
       "</div>"
      ],
      "text/plain": [
       "   invoice_nulls  stockcode_nulls  description_nulls  quantity_nulls  \\\n",
       "0              0                0               2928               0   \n",
       "\n",
       "   date_nulls  price_nulls  customerid_nulls  country_nulls  \n",
       "0           0            0            107927              0  "
      ]
     },
     "execution_count": 6,
     "metadata": {},
     "output_type": "execute_result"
    }
   ],
   "source": [
    "# Check for NULL values in each column\n",
    "con.execute(\"\"\"\n",
    "    SELECT \n",
    "        COUNT(*) - COUNT(Invoice) AS invoice_nulls,\n",
    "        COUNT(*) - COUNT(StockCode) AS stockcode_nulls,\n",
    "        COUNT(*) - COUNT(Description) AS description_nulls,\n",
    "        COUNT(*) - COUNT(Quantity) AS quantity_nulls,\n",
    "        COUNT(*) - COUNT(InvoiceDate) AS date_nulls,\n",
    "        COUNT(*) - COUNT(Price) AS price_nulls,\n",
    "        COUNT(*) - COUNT(\"Customer ID\") AS customerid_nulls,\n",
    "        COUNT(*) - COUNT(Country) AS country_nulls\n",
    "    FROM retail\n",
    "\"\"\").df()"
   ]
  },
  {
   "cell_type": "code",
   "execution_count": 7,
   "metadata": {},
   "outputs": [
    {
     "data": {
      "application/vnd.microsoft.datawrangler.viewer.v0+json": {
       "columns": [
        {
         "name": "index",
         "rawType": "int64",
         "type": "integer"
        },
        {
         "name": "first_transaction",
         "rawType": "datetime64[us]",
         "type": "unknown"
        },
        {
         "name": "last_transaction",
         "rawType": "datetime64[us]",
         "type": "unknown"
        }
       ],
       "ref": "de03b69f-72e1-492a-aa4b-f34872aced00",
       "rows": [
        [
         "0",
         "2009-12-01 07:45:00",
         "2010-12-09 20:01:00"
        ]
       ],
       "shape": {
        "columns": 2,
        "rows": 1
       }
      },
      "text/html": [
       "<div>\n",
       "<style scoped>\n",
       "    .dataframe tbody tr th:only-of-type {\n",
       "        vertical-align: middle;\n",
       "    }\n",
       "\n",
       "    .dataframe tbody tr th {\n",
       "        vertical-align: top;\n",
       "    }\n",
       "\n",
       "    .dataframe thead th {\n",
       "        text-align: right;\n",
       "    }\n",
       "</style>\n",
       "<table border=\"1\" class=\"dataframe\">\n",
       "  <thead>\n",
       "    <tr style=\"text-align: right;\">\n",
       "      <th></th>\n",
       "      <th>first_transaction</th>\n",
       "      <th>last_transaction</th>\n",
       "    </tr>\n",
       "  </thead>\n",
       "  <tbody>\n",
       "    <tr>\n",
       "      <th>0</th>\n",
       "      <td>2009-12-01 07:45:00</td>\n",
       "      <td>2010-12-09 20:01:00</td>\n",
       "    </tr>\n",
       "  </tbody>\n",
       "</table>\n",
       "</div>"
      ],
      "text/plain": [
       "    first_transaction    last_transaction\n",
       "0 2009-12-01 07:45:00 2010-12-09 20:01:00"
      ]
     },
     "execution_count": 7,
     "metadata": {},
     "output_type": "execute_result"
    }
   ],
   "source": [
    "# Check date range\n",
    "con.execute(\"\"\"\n",
    "    SELECT \n",
    "        MIN(InvoiceDate) as first_transaction,\n",
    "        MAX(InvoiceDate) as last_transaction\n",
    "    FROM retail\n",
    "\"\"\").df()"
   ]
  },
  {
   "cell_type": "markdown",
   "metadata": {},
   "source": [
    "**Good!** Now you know:\n",
    "- Total row count\n",
    "- Which columns have NULLs (Customer ID and Description)\n",
    "- Date range covered\n",
    "\n",
    "Keep this in mind as you write queries!\n",
    "\n",
    "---"
   ]
  },
  {
   "cell_type": "markdown",
   "metadata": {},
   "source": [
    "## Part 1: Basic Queries (30 points)\n",
    "\n",
    "This section tests: SELECT, WHERE, ORDER BY, NULL handling, LIKE"
   ]
  },
  {
   "cell_type": "markdown",
   "metadata": {},
   "source": [
    "### Question 1.1: Guest Checkouts (8 points)\n",
    "\n",
    "**Business question:** How many transactions were guest checkouts (no Customer ID)?\n",
    "\n",
    "**Requirements:**\n",
    "- Count transactions where Customer ID is NULL\n",
    "- Also calculate what percentage of total transactions this represents\n",
    "- Your result should have two columns: `guest_transactions` and `pct_of_total`\n",
    "\n",
    "**Hint:** Remember to use `IS NULL`, not `= NULL`!"
   ]
  },
  {
   "cell_type": "code",
   "execution_count": 10,
   "metadata": {},
   "outputs": [
    {
     "data": {
      "application/vnd.microsoft.datawrangler.viewer.v0+json": {
       "columns": [
        {
         "name": "index",
         "rawType": "int64",
         "type": "integer"
        },
        {
         "name": "guest_transactions",
         "rawType": "int64",
         "type": "integer"
        },
        {
         "name": "pct_of_total",
         "rawType": "float64",
         "type": "float"
        }
       ],
       "ref": "e8585ca4-7ff2-4288-9e1e-5c34dc4c03d1",
       "rows": [
        [
         "0",
         "107927",
         "20.54"
        ]
       ],
       "shape": {
        "columns": 2,
        "rows": 1
       }
      },
      "text/html": [
       "<div>\n",
       "<style scoped>\n",
       "    .dataframe tbody tr th:only-of-type {\n",
       "        vertical-align: middle;\n",
       "    }\n",
       "\n",
       "    .dataframe tbody tr th {\n",
       "        vertical-align: top;\n",
       "    }\n",
       "\n",
       "    .dataframe thead th {\n",
       "        text-align: right;\n",
       "    }\n",
       "</style>\n",
       "<table border=\"1\" class=\"dataframe\">\n",
       "  <thead>\n",
       "    <tr style=\"text-align: right;\">\n",
       "      <th></th>\n",
       "      <th>guest_transactions</th>\n",
       "      <th>pct_of_total</th>\n",
       "    </tr>\n",
       "  </thead>\n",
       "  <tbody>\n",
       "    <tr>\n",
       "      <th>0</th>\n",
       "      <td>107927</td>\n",
       "      <td>20.54</td>\n",
       "    </tr>\n",
       "  </tbody>\n",
       "</table>\n",
       "</div>"
      ],
      "text/plain": [
       "   guest_transactions  pct_of_total\n",
       "0              107927         20.54"
      ]
     },
     "execution_count": 10,
     "metadata": {},
     "output_type": "execute_result"
    }
   ],
   "source": [
    "con.execute(\"\"\"\n",
    "    SELECT\n",
    "        COUNT(*) - COUNT(\"Customer ID\") AS guest_transactions,\n",
    "        ROUND((guest_transactions / COUNT(*)) * 100, 2) AS pct_of_total\n",
    "    FROM retail\n",
    "\"\"\").df()"
   ]
  },
  {
   "cell_type": "markdown",
   "metadata": {},
   "source": [
    "**TODO: Explain your result in 1-2 sentences:**\n",
    "\n",
    "More, than 20 % of total transactions are from guests and at the moment, these rows are represented with having NULL for `Customer ID`. This should be handled later on. "
   ]
  },
  {
   "cell_type": "markdown",
   "metadata": {},
   "source": [
    "---\n",
    "\n",
    "### Question 1.2: High-Value Transactions (7 points)\n",
    "\n",
    "**Business question:** Show the top 20 highest-value transactions (revenue = Quantity * Price).\n",
    "\n",
    "**Requirements:**\n",
    "- Calculate revenue as Quantity * Price\n",
    "- Show: Invoice, Description, Quantity, Price, Revenue\n",
    "- Only include rows where Quantity and Price are both positive\n",
    "- Filter out NULL values appropriately\n",
    "- Sort by revenue descending\n",
    "- Limit to top 20\n",
    "\n",
    "**Hint:** Use calculated column with AS to name it `revenue`"
   ]
  },
  {
   "cell_type": "code",
   "execution_count": 14,
   "metadata": {},
   "outputs": [
    {
     "data": {
      "application/vnd.microsoft.datawrangler.viewer.v0+json": {
       "columns": [
        {
         "name": "index",
         "rawType": "int64",
         "type": "integer"
        },
        {
         "name": "Invoice",
         "rawType": "object",
         "type": "string"
        },
        {
         "name": "Description",
         "rawType": "object",
         "type": "string"
        },
        {
         "name": "Quantity",
         "rawType": "int64",
         "type": "integer"
        },
        {
         "name": "Price",
         "rawType": "float64",
         "type": "float"
        },
        {
         "name": "Revenue",
         "rawType": "float64",
         "type": "float"
        }
       ],
       "ref": "5ff79489-f2a1-4817-9bda-5c0a74649c1c",
       "rows": [
        [
         "0",
         "512771",
         "Manual",
         "1",
         "25111.09",
         "25111.09"
        ],
        [
         "1",
         "530715",
         "ROTATING SILVER ANGELS T-LIGHT HLDR",
         "9360",
         "1.69",
         "15818.4"
        ],
        [
         "2",
         "537632",
         "AMAZON FEE",
         "1",
         "13541.33",
         "13541.33"
        ],
        [
         "3",
         "502263",
         "Manual",
         "1",
         "10953.5",
         "10953.5"
        ],
        [
         "4",
         "502265",
         "Manual",
         "1",
         "10953.5",
         "10953.5"
        ],
        [
         "5",
         "522796",
         "Manual",
         "1",
         "10468.8",
         "10468.8"
        ],
        [
         "6",
         "524159",
         "Manual",
         "1",
         "10468.8",
         "10468.8"
        ],
        [
         "7",
         "525399",
         "Manual",
         "1",
         "10468.8",
         "10468.8"
        ],
        [
         "8",
         "496115",
         "Manual",
         "1",
         "8985.6",
         "8985.6"
        ],
        [
         "9",
         "511465",
         "PINK PAPER PARASOL ",
         "3500",
         "2.55",
         "8925.0"
        ],
        [
         "10",
         "525473",
         "Manual",
         "1",
         "7044.79",
         "7044.79"
        ],
        [
         "11",
         "501766",
         "Manual",
         "1",
         "6958.17",
         "6958.17"
        ],
        [
         "12",
         "501768",
         "Manual",
         "1",
         "6958.17",
         "6958.17"
        ],
        [
         "13",
         "531411",
         "AMAZON FEE",
         "1",
         "6706.71",
         "6706.71"
        ],
        [
         "14",
         "505505",
         "Manual",
         "1",
         "5876.34",
         "5876.34"
        ],
        [
         "15",
         "504639",
         "Manual",
         "1",
         "5843.7",
         "5843.7"
        ],
        [
         "16",
         "533027",
         "PAPER CHAIN KIT 50'S CHRISTMAS ",
         "835",
         "6.95",
         "5803.25"
        ],
        [
         "17",
         "501772",
         "Manual",
         "1",
         "5795.87",
         "5795.87"
        ],
        [
         "18",
         "525968",
         "ROTATING SILVER ANGELS T-LIGHT HLDR",
         "3120",
         "1.66",
         "5179.2"
        ],
        [
         "19",
         "495798",
         "Adjustment by john on 26/01/2010 17",
         "1",
         "5117.03",
         "5117.03"
        ]
       ],
       "shape": {
        "columns": 5,
        "rows": 20
       }
      },
      "text/html": [
       "<div>\n",
       "<style scoped>\n",
       "    .dataframe tbody tr th:only-of-type {\n",
       "        vertical-align: middle;\n",
       "    }\n",
       "\n",
       "    .dataframe tbody tr th {\n",
       "        vertical-align: top;\n",
       "    }\n",
       "\n",
       "    .dataframe thead th {\n",
       "        text-align: right;\n",
       "    }\n",
       "</style>\n",
       "<table border=\"1\" class=\"dataframe\">\n",
       "  <thead>\n",
       "    <tr style=\"text-align: right;\">\n",
       "      <th></th>\n",
       "      <th>Invoice</th>\n",
       "      <th>Description</th>\n",
       "      <th>Quantity</th>\n",
       "      <th>Price</th>\n",
       "      <th>Revenue</th>\n",
       "    </tr>\n",
       "  </thead>\n",
       "  <tbody>\n",
       "    <tr>\n",
       "      <th>0</th>\n",
       "      <td>512771</td>\n",
       "      <td>Manual</td>\n",
       "      <td>1</td>\n",
       "      <td>25111.09</td>\n",
       "      <td>25111.09</td>\n",
       "    </tr>\n",
       "    <tr>\n",
       "      <th>1</th>\n",
       "      <td>530715</td>\n",
       "      <td>ROTATING SILVER ANGELS T-LIGHT HLDR</td>\n",
       "      <td>9360</td>\n",
       "      <td>1.69</td>\n",
       "      <td>15818.40</td>\n",
       "    </tr>\n",
       "    <tr>\n",
       "      <th>2</th>\n",
       "      <td>537632</td>\n",
       "      <td>AMAZON FEE</td>\n",
       "      <td>1</td>\n",
       "      <td>13541.33</td>\n",
       "      <td>13541.33</td>\n",
       "    </tr>\n",
       "    <tr>\n",
       "      <th>3</th>\n",
       "      <td>502263</td>\n",
       "      <td>Manual</td>\n",
       "      <td>1</td>\n",
       "      <td>10953.50</td>\n",
       "      <td>10953.50</td>\n",
       "    </tr>\n",
       "    <tr>\n",
       "      <th>4</th>\n",
       "      <td>502265</td>\n",
       "      <td>Manual</td>\n",
       "      <td>1</td>\n",
       "      <td>10953.50</td>\n",
       "      <td>10953.50</td>\n",
       "    </tr>\n",
       "    <tr>\n",
       "      <th>5</th>\n",
       "      <td>522796</td>\n",
       "      <td>Manual</td>\n",
       "      <td>1</td>\n",
       "      <td>10468.80</td>\n",
       "      <td>10468.80</td>\n",
       "    </tr>\n",
       "    <tr>\n",
       "      <th>6</th>\n",
       "      <td>524159</td>\n",
       "      <td>Manual</td>\n",
       "      <td>1</td>\n",
       "      <td>10468.80</td>\n",
       "      <td>10468.80</td>\n",
       "    </tr>\n",
       "    <tr>\n",
       "      <th>7</th>\n",
       "      <td>525399</td>\n",
       "      <td>Manual</td>\n",
       "      <td>1</td>\n",
       "      <td>10468.80</td>\n",
       "      <td>10468.80</td>\n",
       "    </tr>\n",
       "    <tr>\n",
       "      <th>8</th>\n",
       "      <td>496115</td>\n",
       "      <td>Manual</td>\n",
       "      <td>1</td>\n",
       "      <td>8985.60</td>\n",
       "      <td>8985.60</td>\n",
       "    </tr>\n",
       "    <tr>\n",
       "      <th>9</th>\n",
       "      <td>511465</td>\n",
       "      <td>PINK PAPER PARASOL</td>\n",
       "      <td>3500</td>\n",
       "      <td>2.55</td>\n",
       "      <td>8925.00</td>\n",
       "    </tr>\n",
       "    <tr>\n",
       "      <th>10</th>\n",
       "      <td>525473</td>\n",
       "      <td>Manual</td>\n",
       "      <td>1</td>\n",
       "      <td>7044.79</td>\n",
       "      <td>7044.79</td>\n",
       "    </tr>\n",
       "    <tr>\n",
       "      <th>11</th>\n",
       "      <td>501766</td>\n",
       "      <td>Manual</td>\n",
       "      <td>1</td>\n",
       "      <td>6958.17</td>\n",
       "      <td>6958.17</td>\n",
       "    </tr>\n",
       "    <tr>\n",
       "      <th>12</th>\n",
       "      <td>501768</td>\n",
       "      <td>Manual</td>\n",
       "      <td>1</td>\n",
       "      <td>6958.17</td>\n",
       "      <td>6958.17</td>\n",
       "    </tr>\n",
       "    <tr>\n",
       "      <th>13</th>\n",
       "      <td>531411</td>\n",
       "      <td>AMAZON FEE</td>\n",
       "      <td>1</td>\n",
       "      <td>6706.71</td>\n",
       "      <td>6706.71</td>\n",
       "    </tr>\n",
       "    <tr>\n",
       "      <th>14</th>\n",
       "      <td>505505</td>\n",
       "      <td>Manual</td>\n",
       "      <td>1</td>\n",
       "      <td>5876.34</td>\n",
       "      <td>5876.34</td>\n",
       "    </tr>\n",
       "    <tr>\n",
       "      <th>15</th>\n",
       "      <td>504639</td>\n",
       "      <td>Manual</td>\n",
       "      <td>1</td>\n",
       "      <td>5843.70</td>\n",
       "      <td>5843.70</td>\n",
       "    </tr>\n",
       "    <tr>\n",
       "      <th>16</th>\n",
       "      <td>533027</td>\n",
       "      <td>PAPER CHAIN KIT 50'S CHRISTMAS</td>\n",
       "      <td>835</td>\n",
       "      <td>6.95</td>\n",
       "      <td>5803.25</td>\n",
       "    </tr>\n",
       "    <tr>\n",
       "      <th>17</th>\n",
       "      <td>501772</td>\n",
       "      <td>Manual</td>\n",
       "      <td>1</td>\n",
       "      <td>5795.87</td>\n",
       "      <td>5795.87</td>\n",
       "    </tr>\n",
       "    <tr>\n",
       "      <th>18</th>\n",
       "      <td>525968</td>\n",
       "      <td>ROTATING SILVER ANGELS T-LIGHT HLDR</td>\n",
       "      <td>3120</td>\n",
       "      <td>1.66</td>\n",
       "      <td>5179.20</td>\n",
       "    </tr>\n",
       "    <tr>\n",
       "      <th>19</th>\n",
       "      <td>495798</td>\n",
       "      <td>Adjustment by john on 26/01/2010 17</td>\n",
       "      <td>1</td>\n",
       "      <td>5117.03</td>\n",
       "      <td>5117.03</td>\n",
       "    </tr>\n",
       "  </tbody>\n",
       "</table>\n",
       "</div>"
      ],
      "text/plain": [
       "   Invoice                          Description  Quantity     Price   Revenue\n",
       "0   512771                               Manual         1  25111.09  25111.09\n",
       "1   530715  ROTATING SILVER ANGELS T-LIGHT HLDR      9360      1.69  15818.40\n",
       "2   537632                           AMAZON FEE         1  13541.33  13541.33\n",
       "3   502263                               Manual         1  10953.50  10953.50\n",
       "4   502265                               Manual         1  10953.50  10953.50\n",
       "5   522796                               Manual         1  10468.80  10468.80\n",
       "6   524159                               Manual         1  10468.80  10468.80\n",
       "7   525399                               Manual         1  10468.80  10468.80\n",
       "8   496115                               Manual         1   8985.60   8985.60\n",
       "9   511465                  PINK PAPER PARASOL       3500      2.55   8925.00\n",
       "10  525473                               Manual         1   7044.79   7044.79\n",
       "11  501766                               Manual         1   6958.17   6958.17\n",
       "12  501768                               Manual         1   6958.17   6958.17\n",
       "13  531411                           AMAZON FEE         1   6706.71   6706.71\n",
       "14  505505                               Manual         1   5876.34   5876.34\n",
       "15  504639                               Manual         1   5843.70   5843.70\n",
       "16  533027      PAPER CHAIN KIT 50'S CHRISTMAS        835      6.95   5803.25\n",
       "17  501772                               Manual         1   5795.87   5795.87\n",
       "18  525968  ROTATING SILVER ANGELS T-LIGHT HLDR      3120      1.66   5179.20\n",
       "19  495798  Adjustment by john on 26/01/2010 17         1   5117.03   5117.03"
      ]
     },
     "execution_count": 14,
     "metadata": {},
     "output_type": "execute_result"
    }
   ],
   "source": [
    "con.execute(\"\"\"\n",
    "    SELECT\n",
    "        Invoice,\n",
    "        Description,\n",
    "        Quantity,\n",
    "        Price,\n",
    "        Quantity * Price AS Revenue\n",
    "    FROM retail\n",
    "    WHERE TRUE\n",
    "        AND Quantity > 0\n",
    "        AND Price > 0\n",
    "        AND Description IS NOT NULL  -- as filtering NULLs is a requirement\n",
    "    ORDER BY revenue DESC\n",
    "    LIMIT 20\n",
    "\"\"\").df()"
   ]
  },
  {
   "cell_type": "markdown",
   "metadata": {},
   "source": [
    "---\n",
    "\n",
    "### Question 1.3: Product Search (7 points)\n",
    "\n",
    "**Business question:** Find all products with \"CHRISTMAS\" in the description.\n",
    "\n",
    "**Requirements:**\n",
    "- Use LIKE with wildcard pattern matching\n",
    "- Show: StockCode, Description\n",
    "- Get distinct products only (no duplicates)\n",
    "- Sort alphabetically by Description\n",
    "- Limit to first 15 results\n",
    "\n",
    "**Hint:** LIKE is case-sensitive in some databases, but DuckDB is case-insensitive by default"
   ]
  },
  {
   "cell_type": "code",
   "execution_count": 18,
   "metadata": {},
   "outputs": [
    {
     "data": {
      "application/vnd.microsoft.datawrangler.viewer.v0+json": {
       "columns": [
        {
         "name": "index",
         "rawType": "int64",
         "type": "integer"
        },
        {
         "name": "StockCode",
         "rawType": "object",
         "type": "string"
        },
        {
         "name": "Description",
         "rawType": "object",
         "type": "string"
        }
       ],
       "ref": "51b26dc3-6fcd-45cd-9da2-c0231196be51",
       "rows": [
        [
         "0",
         "35962",
         "12 ASS ZINC CHRISTMAS DECORATIONS"
        ],
        [
         "1",
         "85048",
         "15CM CHRISTMAS GLASS BALL 20 LIGHTS"
        ],
        [
         "2",
         "72815",
         "3 WICK CHRISTMAS BRIAR CANDLE "
        ],
        [
         "3",
         "22950",
         "36 DOILIES VINTAGE CHRISTMAS"
        ],
        [
         "4",
         "22731",
         "3D CHRISTMAS STAMPS STICKERS "
        ],
        [
         "5",
         "22731",
         "3D STICKERS CHRISTMAS STAMPS"
        ],
        [
         "6",
         "22733",
         "3D STICKERS TRADITIONAL CHRISTMAS "
        ],
        [
         "7",
         "22732",
         "3D STICKERS VINTAGE CHRISTMAS"
        ],
        [
         "8",
         "22733",
         "3D TRADITIONAL CHRISTMAS STICKERS"
        ],
        [
         "9",
         "22732",
         "3D VINTAGE CHRISTMAS STICKERS "
        ],
        [
         "10",
         "35833G",
         "4 GOLD FLOCK CHRISTMAS BALLS"
        ],
        [
         "11",
         "35833P",
         "4 PINK FLOCK CHRISTMAS BALLS"
        ],
        [
         "12",
         "22075",
         "6 RIBBONS ELEGANT CHRISTMAS "
        ],
        [
         "13",
         "22952",
         "60 CAKE CASES VINTAGE CHRISTMAS"
        ],
        [
         "14",
         "22952",
         "72 CAKE CASES VINTAGE CHRISTMAS"
        ]
       ],
       "shape": {
        "columns": 2,
        "rows": 15
       }
      },
      "text/html": [
       "<div>\n",
       "<style scoped>\n",
       "    .dataframe tbody tr th:only-of-type {\n",
       "        vertical-align: middle;\n",
       "    }\n",
       "\n",
       "    .dataframe tbody tr th {\n",
       "        vertical-align: top;\n",
       "    }\n",
       "\n",
       "    .dataframe thead th {\n",
       "        text-align: right;\n",
       "    }\n",
       "</style>\n",
       "<table border=\"1\" class=\"dataframe\">\n",
       "  <thead>\n",
       "    <tr style=\"text-align: right;\">\n",
       "      <th></th>\n",
       "      <th>StockCode</th>\n",
       "      <th>Description</th>\n",
       "    </tr>\n",
       "  </thead>\n",
       "  <tbody>\n",
       "    <tr>\n",
       "      <th>0</th>\n",
       "      <td>35962</td>\n",
       "      <td>12 ASS ZINC CHRISTMAS DECORATIONS</td>\n",
       "    </tr>\n",
       "    <tr>\n",
       "      <th>1</th>\n",
       "      <td>85048</td>\n",
       "      <td>15CM CHRISTMAS GLASS BALL 20 LIGHTS</td>\n",
       "    </tr>\n",
       "    <tr>\n",
       "      <th>2</th>\n",
       "      <td>72815</td>\n",
       "      <td>3 WICK CHRISTMAS BRIAR CANDLE</td>\n",
       "    </tr>\n",
       "    <tr>\n",
       "      <th>3</th>\n",
       "      <td>22950</td>\n",
       "      <td>36 DOILIES VINTAGE CHRISTMAS</td>\n",
       "    </tr>\n",
       "    <tr>\n",
       "      <th>4</th>\n",
       "      <td>22731</td>\n",
       "      <td>3D CHRISTMAS STAMPS STICKERS</td>\n",
       "    </tr>\n",
       "    <tr>\n",
       "      <th>5</th>\n",
       "      <td>22731</td>\n",
       "      <td>3D STICKERS CHRISTMAS STAMPS</td>\n",
       "    </tr>\n",
       "    <tr>\n",
       "      <th>6</th>\n",
       "      <td>22733</td>\n",
       "      <td>3D STICKERS TRADITIONAL CHRISTMAS</td>\n",
       "    </tr>\n",
       "    <tr>\n",
       "      <th>7</th>\n",
       "      <td>22732</td>\n",
       "      <td>3D STICKERS VINTAGE CHRISTMAS</td>\n",
       "    </tr>\n",
       "    <tr>\n",
       "      <th>8</th>\n",
       "      <td>22733</td>\n",
       "      <td>3D TRADITIONAL CHRISTMAS STICKERS</td>\n",
       "    </tr>\n",
       "    <tr>\n",
       "      <th>9</th>\n",
       "      <td>22732</td>\n",
       "      <td>3D VINTAGE CHRISTMAS STICKERS</td>\n",
       "    </tr>\n",
       "    <tr>\n",
       "      <th>10</th>\n",
       "      <td>35833G</td>\n",
       "      <td>4 GOLD FLOCK CHRISTMAS BALLS</td>\n",
       "    </tr>\n",
       "    <tr>\n",
       "      <th>11</th>\n",
       "      <td>35833P</td>\n",
       "      <td>4 PINK FLOCK CHRISTMAS BALLS</td>\n",
       "    </tr>\n",
       "    <tr>\n",
       "      <th>12</th>\n",
       "      <td>22075</td>\n",
       "      <td>6 RIBBONS ELEGANT CHRISTMAS</td>\n",
       "    </tr>\n",
       "    <tr>\n",
       "      <th>13</th>\n",
       "      <td>22952</td>\n",
       "      <td>60 CAKE CASES VINTAGE CHRISTMAS</td>\n",
       "    </tr>\n",
       "    <tr>\n",
       "      <th>14</th>\n",
       "      <td>22952</td>\n",
       "      <td>72 CAKE CASES VINTAGE CHRISTMAS</td>\n",
       "    </tr>\n",
       "  </tbody>\n",
       "</table>\n",
       "</div>"
      ],
      "text/plain": [
       "   StockCode                          Description\n",
       "0      35962    12 ASS ZINC CHRISTMAS DECORATIONS\n",
       "1      85048  15CM CHRISTMAS GLASS BALL 20 LIGHTS\n",
       "2      72815       3 WICK CHRISTMAS BRIAR CANDLE \n",
       "3      22950         36 DOILIES VINTAGE CHRISTMAS\n",
       "4      22731        3D CHRISTMAS STAMPS STICKERS \n",
       "5      22731         3D STICKERS CHRISTMAS STAMPS\n",
       "6      22733   3D STICKERS TRADITIONAL CHRISTMAS \n",
       "7      22732        3D STICKERS VINTAGE CHRISTMAS\n",
       "8      22733    3D TRADITIONAL CHRISTMAS STICKERS\n",
       "9      22732       3D VINTAGE CHRISTMAS STICKERS \n",
       "10    35833G         4 GOLD FLOCK CHRISTMAS BALLS\n",
       "11    35833P         4 PINK FLOCK CHRISTMAS BALLS\n",
       "12     22075         6 RIBBONS ELEGANT CHRISTMAS \n",
       "13     22952      60 CAKE CASES VINTAGE CHRISTMAS\n",
       "14     22952      72 CAKE CASES VINTAGE CHRISTMAS"
      ]
     },
     "execution_count": 18,
     "metadata": {},
     "output_type": "execute_result"
    }
   ],
   "source": [
    "con.execute(\"\"\"\n",
    "    SELECT DISTINCT\n",
    "        StockCode,\n",
    "        Description\n",
    "    FROM retail\n",
    "    WHERE TRUE\n",
    "        AND UPPER(Description) LIKE '%CHRISTMAS%'\n",
    "    ORDER BY Description\n",
    "    LIMIT 15\n",
    "\"\"\").df()"
   ]
  },
  {
   "cell_type": "markdown",
   "metadata": {},
   "source": [
    "---\n",
    "\n",
    "### Question 1.4: Multi-Country Orders (8 points)\n",
    "\n",
    "**Business question:** Show transactions from France, Germany, or Spain, with quantity greater than 10.\n",
    "\n",
    "**Requirements:**\n",
    "- Use IN operator for country filtering\n",
    "- Filter for Quantity > 10\n",
    "- Show: Invoice, Country, Description, Quantity, Price\n",
    "- Sort by Country, then Quantity descending\n",
    "- Limit to 25 rows\n",
    "- Handle NULLs appropriately\n",
    "\n",
    "**Hint:** Combine IN with AND for multiple conditions"
   ]
  },
  {
   "cell_type": "code",
   "execution_count": 22,
   "metadata": {},
   "outputs": [
    {
     "data": {
      "application/vnd.microsoft.datawrangler.viewer.v0+json": {
       "columns": [
        {
         "name": "index",
         "rawType": "int64",
         "type": "integer"
        },
        {
         "name": "Invoice",
         "rawType": "object",
         "type": "string"
        },
        {
         "name": "Country",
         "rawType": "object",
         "type": "string"
        },
        {
         "name": "Description",
         "rawType": "object",
         "type": "string"
        },
        {
         "name": "Quantity",
         "rawType": "int64",
         "type": "integer"
        },
        {
         "name": "Price",
         "rawType": "float64",
         "type": "float"
        }
       ],
       "ref": "50cab03e-1a8c-4826-b06e-94c8300d3d64",
       "rows": [
        [
         "0",
         "518505",
         "France",
         "SET/6 FRUIT SALAD PAPER CUPS",
         "7128",
         "0.08"
        ],
        [
         "1",
         "518505",
         "France",
         "SET/6 FRUIT SALAD  PAPER PLATES",
         "7008",
         "0.13"
        ],
        [
         "2",
         "518505",
         "France",
         "POP ART PEN CASE & PENS",
         "5184",
         "0.08"
        ],
        [
         "3",
         "518505",
         "France",
         "MULTICOLOUR SPRING FLOWER MUG",
         "4992",
         "0.1"
        ],
        [
         "4",
         "518505",
         "France",
         "BLACK SILVER FLOWER T-LIGHT HOLDER",
         "4752",
         "0.07"
        ],
        [
         "5",
         "518505",
         "France",
         "TEATIME PEN CASE & PENS",
         "4608",
         "0.08"
        ],
        [
         "6",
         "518505",
         "France",
         "WHITE BIRD GARDEN DESIGN MUG",
         "4320",
         "0.13"
        ],
        [
         "7",
         "518505",
         "France",
         "S/4 BLUE ROUND DECOUPAGE BOXES",
         "3936",
         "0.42"
        ],
        [
         "8",
         "518505",
         "France",
         "THE KING GIFT BAG",
         "3744",
         "0.05"
        ],
        [
         "9",
         "518505",
         "France",
         "RED SPOTTY PUDDING BOWL",
         "3648",
         "0.13"
        ],
        [
         "10",
         "518505",
         "France",
         "SET/20 FRUIT SALAD PAPER NAPKINS ",
         "3072",
         "0.17"
        ],
        [
         "11",
         "518505",
         "France",
         "BLACK BIRD GARDEN DESIGN MUG",
         "2976",
         "0.13"
        ],
        [
         "12",
         "518505",
         "France",
         "WHITE WITH BLACK CATS PLATE",
         "2952",
         "0.1"
        ],
        [
         "13",
         "518505",
         "France",
         "BLUE  SPOTTY PUDDING BOWL",
         "2496",
         "0.13"
        ],
        [
         "14",
         "518505",
         "France",
         "WHITE WITH BLACK CATS MUG",
         "2112",
         "0.13"
        ],
        [
         "15",
         "518505",
         "France",
         "POPART COL BALLPOINT PEN ASST",
         "2000",
         "0.03"
        ],
        [
         "16",
         "518505",
         "France",
         "PINK BOUDOIR T-LIGHT HOLDER",
         "1872",
         "0.07"
        ],
        [
         "17",
         "518505",
         "France",
         "VINTAGE KITCHEN PRINT FRUITS",
         "1632",
         "0.25"
        ],
        [
         "18",
         "518505",
         "France",
         "VINTAGE KITCHEN PRINT SEAFOOD",
         "1536",
         "0.25"
        ],
        [
         "19",
         "518505",
         "France",
         "SET 4 NURSERY DES ROUND BOXES",
         "1440",
         "0.31"
        ],
        [
         "20",
         "518505",
         "France",
         "YELLOW BREAKFAST CUP AND SAUCER",
         "1308",
         "0.13"
        ],
        [
         "21",
         "518505",
         "France",
         "VINTAGE KITCHEN PRINT VEGETABLES",
         "1248",
         "0.25"
        ],
        [
         "22",
         "518505",
         "France",
         "VINTAGE KITCHEN PRINT PUDDINGS",
         "1200",
         "0.25"
        ],
        [
         "23",
         "518505",
         "France",
         "FLORAL BATHROOM SET",
         "1116",
         "0.33"
        ],
        [
         "24",
         "518505",
         "France",
         "ARMY CAMO WRAPPING TAPE",
         "1104",
         "0.06"
        ]
       ],
       "shape": {
        "columns": 5,
        "rows": 25
       }
      },
      "text/html": [
       "<div>\n",
       "<style scoped>\n",
       "    .dataframe tbody tr th:only-of-type {\n",
       "        vertical-align: middle;\n",
       "    }\n",
       "\n",
       "    .dataframe tbody tr th {\n",
       "        vertical-align: top;\n",
       "    }\n",
       "\n",
       "    .dataframe thead th {\n",
       "        text-align: right;\n",
       "    }\n",
       "</style>\n",
       "<table border=\"1\" class=\"dataframe\">\n",
       "  <thead>\n",
       "    <tr style=\"text-align: right;\">\n",
       "      <th></th>\n",
       "      <th>Invoice</th>\n",
       "      <th>Country</th>\n",
       "      <th>Description</th>\n",
       "      <th>Quantity</th>\n",
       "      <th>Price</th>\n",
       "    </tr>\n",
       "  </thead>\n",
       "  <tbody>\n",
       "    <tr>\n",
       "      <th>0</th>\n",
       "      <td>518505</td>\n",
       "      <td>France</td>\n",
       "      <td>SET/6 FRUIT SALAD PAPER CUPS</td>\n",
       "      <td>7128</td>\n",
       "      <td>0.08</td>\n",
       "    </tr>\n",
       "    <tr>\n",
       "      <th>1</th>\n",
       "      <td>518505</td>\n",
       "      <td>France</td>\n",
       "      <td>SET/6 FRUIT SALAD  PAPER PLATES</td>\n",
       "      <td>7008</td>\n",
       "      <td>0.13</td>\n",
       "    </tr>\n",
       "    <tr>\n",
       "      <th>2</th>\n",
       "      <td>518505</td>\n",
       "      <td>France</td>\n",
       "      <td>POP ART PEN CASE &amp; PENS</td>\n",
       "      <td>5184</td>\n",
       "      <td>0.08</td>\n",
       "    </tr>\n",
       "    <tr>\n",
       "      <th>3</th>\n",
       "      <td>518505</td>\n",
       "      <td>France</td>\n",
       "      <td>MULTICOLOUR SPRING FLOWER MUG</td>\n",
       "      <td>4992</td>\n",
       "      <td>0.10</td>\n",
       "    </tr>\n",
       "    <tr>\n",
       "      <th>4</th>\n",
       "      <td>518505</td>\n",
       "      <td>France</td>\n",
       "      <td>BLACK SILVER FLOWER T-LIGHT HOLDER</td>\n",
       "      <td>4752</td>\n",
       "      <td>0.07</td>\n",
       "    </tr>\n",
       "    <tr>\n",
       "      <th>5</th>\n",
       "      <td>518505</td>\n",
       "      <td>France</td>\n",
       "      <td>TEATIME PEN CASE &amp; PENS</td>\n",
       "      <td>4608</td>\n",
       "      <td>0.08</td>\n",
       "    </tr>\n",
       "    <tr>\n",
       "      <th>6</th>\n",
       "      <td>518505</td>\n",
       "      <td>France</td>\n",
       "      <td>WHITE BIRD GARDEN DESIGN MUG</td>\n",
       "      <td>4320</td>\n",
       "      <td>0.13</td>\n",
       "    </tr>\n",
       "    <tr>\n",
       "      <th>7</th>\n",
       "      <td>518505</td>\n",
       "      <td>France</td>\n",
       "      <td>S/4 BLUE ROUND DECOUPAGE BOXES</td>\n",
       "      <td>3936</td>\n",
       "      <td>0.42</td>\n",
       "    </tr>\n",
       "    <tr>\n",
       "      <th>8</th>\n",
       "      <td>518505</td>\n",
       "      <td>France</td>\n",
       "      <td>THE KING GIFT BAG</td>\n",
       "      <td>3744</td>\n",
       "      <td>0.05</td>\n",
       "    </tr>\n",
       "    <tr>\n",
       "      <th>9</th>\n",
       "      <td>518505</td>\n",
       "      <td>France</td>\n",
       "      <td>RED SPOTTY PUDDING BOWL</td>\n",
       "      <td>3648</td>\n",
       "      <td>0.13</td>\n",
       "    </tr>\n",
       "    <tr>\n",
       "      <th>10</th>\n",
       "      <td>518505</td>\n",
       "      <td>France</td>\n",
       "      <td>SET/20 FRUIT SALAD PAPER NAPKINS</td>\n",
       "      <td>3072</td>\n",
       "      <td>0.17</td>\n",
       "    </tr>\n",
       "    <tr>\n",
       "      <th>11</th>\n",
       "      <td>518505</td>\n",
       "      <td>France</td>\n",
       "      <td>BLACK BIRD GARDEN DESIGN MUG</td>\n",
       "      <td>2976</td>\n",
       "      <td>0.13</td>\n",
       "    </tr>\n",
       "    <tr>\n",
       "      <th>12</th>\n",
       "      <td>518505</td>\n",
       "      <td>France</td>\n",
       "      <td>WHITE WITH BLACK CATS PLATE</td>\n",
       "      <td>2952</td>\n",
       "      <td>0.10</td>\n",
       "    </tr>\n",
       "    <tr>\n",
       "      <th>13</th>\n",
       "      <td>518505</td>\n",
       "      <td>France</td>\n",
       "      <td>BLUE  SPOTTY PUDDING BOWL</td>\n",
       "      <td>2496</td>\n",
       "      <td>0.13</td>\n",
       "    </tr>\n",
       "    <tr>\n",
       "      <th>14</th>\n",
       "      <td>518505</td>\n",
       "      <td>France</td>\n",
       "      <td>WHITE WITH BLACK CATS MUG</td>\n",
       "      <td>2112</td>\n",
       "      <td>0.13</td>\n",
       "    </tr>\n",
       "    <tr>\n",
       "      <th>15</th>\n",
       "      <td>518505</td>\n",
       "      <td>France</td>\n",
       "      <td>POPART COL BALLPOINT PEN ASST</td>\n",
       "      <td>2000</td>\n",
       "      <td>0.03</td>\n",
       "    </tr>\n",
       "    <tr>\n",
       "      <th>16</th>\n",
       "      <td>518505</td>\n",
       "      <td>France</td>\n",
       "      <td>PINK BOUDOIR T-LIGHT HOLDER</td>\n",
       "      <td>1872</td>\n",
       "      <td>0.07</td>\n",
       "    </tr>\n",
       "    <tr>\n",
       "      <th>17</th>\n",
       "      <td>518505</td>\n",
       "      <td>France</td>\n",
       "      <td>VINTAGE KITCHEN PRINT FRUITS</td>\n",
       "      <td>1632</td>\n",
       "      <td>0.25</td>\n",
       "    </tr>\n",
       "    <tr>\n",
       "      <th>18</th>\n",
       "      <td>518505</td>\n",
       "      <td>France</td>\n",
       "      <td>VINTAGE KITCHEN PRINT SEAFOOD</td>\n",
       "      <td>1536</td>\n",
       "      <td>0.25</td>\n",
       "    </tr>\n",
       "    <tr>\n",
       "      <th>19</th>\n",
       "      <td>518505</td>\n",
       "      <td>France</td>\n",
       "      <td>SET 4 NURSERY DES ROUND BOXES</td>\n",
       "      <td>1440</td>\n",
       "      <td>0.31</td>\n",
       "    </tr>\n",
       "    <tr>\n",
       "      <th>20</th>\n",
       "      <td>518505</td>\n",
       "      <td>France</td>\n",
       "      <td>YELLOW BREAKFAST CUP AND SAUCER</td>\n",
       "      <td>1308</td>\n",
       "      <td>0.13</td>\n",
       "    </tr>\n",
       "    <tr>\n",
       "      <th>21</th>\n",
       "      <td>518505</td>\n",
       "      <td>France</td>\n",
       "      <td>VINTAGE KITCHEN PRINT VEGETABLES</td>\n",
       "      <td>1248</td>\n",
       "      <td>0.25</td>\n",
       "    </tr>\n",
       "    <tr>\n",
       "      <th>22</th>\n",
       "      <td>518505</td>\n",
       "      <td>France</td>\n",
       "      <td>VINTAGE KITCHEN PRINT PUDDINGS</td>\n",
       "      <td>1200</td>\n",
       "      <td>0.25</td>\n",
       "    </tr>\n",
       "    <tr>\n",
       "      <th>23</th>\n",
       "      <td>518505</td>\n",
       "      <td>France</td>\n",
       "      <td>FLORAL BATHROOM SET</td>\n",
       "      <td>1116</td>\n",
       "      <td>0.33</td>\n",
       "    </tr>\n",
       "    <tr>\n",
       "      <th>24</th>\n",
       "      <td>518505</td>\n",
       "      <td>France</td>\n",
       "      <td>ARMY CAMO WRAPPING TAPE</td>\n",
       "      <td>1104</td>\n",
       "      <td>0.06</td>\n",
       "    </tr>\n",
       "  </tbody>\n",
       "</table>\n",
       "</div>"
      ],
      "text/plain": [
       "   Invoice Country                         Description  Quantity  Price\n",
       "0   518505  France        SET/6 FRUIT SALAD PAPER CUPS      7128   0.08\n",
       "1   518505  France     SET/6 FRUIT SALAD  PAPER PLATES      7008   0.13\n",
       "2   518505  France             POP ART PEN CASE & PENS      5184   0.08\n",
       "3   518505  France       MULTICOLOUR SPRING FLOWER MUG      4992   0.10\n",
       "4   518505  France  BLACK SILVER FLOWER T-LIGHT HOLDER      4752   0.07\n",
       "5   518505  France             TEATIME PEN CASE & PENS      4608   0.08\n",
       "6   518505  France        WHITE BIRD GARDEN DESIGN MUG      4320   0.13\n",
       "7   518505  France      S/4 BLUE ROUND DECOUPAGE BOXES      3936   0.42\n",
       "8   518505  France                   THE KING GIFT BAG      3744   0.05\n",
       "9   518505  France             RED SPOTTY PUDDING BOWL      3648   0.13\n",
       "10  518505  France   SET/20 FRUIT SALAD PAPER NAPKINS       3072   0.17\n",
       "11  518505  France        BLACK BIRD GARDEN DESIGN MUG      2976   0.13\n",
       "12  518505  France         WHITE WITH BLACK CATS PLATE      2952   0.10\n",
       "13  518505  France           BLUE  SPOTTY PUDDING BOWL      2496   0.13\n",
       "14  518505  France           WHITE WITH BLACK CATS MUG      2112   0.13\n",
       "15  518505  France       POPART COL BALLPOINT PEN ASST      2000   0.03\n",
       "16  518505  France         PINK BOUDOIR T-LIGHT HOLDER      1872   0.07\n",
       "17  518505  France        VINTAGE KITCHEN PRINT FRUITS      1632   0.25\n",
       "18  518505  France       VINTAGE KITCHEN PRINT SEAFOOD      1536   0.25\n",
       "19  518505  France       SET 4 NURSERY DES ROUND BOXES      1440   0.31\n",
       "20  518505  France     YELLOW BREAKFAST CUP AND SAUCER      1308   0.13\n",
       "21  518505  France    VINTAGE KITCHEN PRINT VEGETABLES      1248   0.25\n",
       "22  518505  France      VINTAGE KITCHEN PRINT PUDDINGS      1200   0.25\n",
       "23  518505  France                 FLORAL BATHROOM SET      1116   0.33\n",
       "24  518505  France             ARMY CAMO WRAPPING TAPE      1104   0.06"
      ]
     },
     "execution_count": 22,
     "metadata": {},
     "output_type": "execute_result"
    }
   ],
   "source": [
    "con.execute(\"\"\"\n",
    "    SELECT\n",
    "        Invoice,\n",
    "        Country,\n",
    "        Description,\n",
    "        Quantity,\n",
    "        Price\n",
    "    FROM retail\n",
    "    WHERE TRUE\n",
    "        AND UPPER(Country) IN ('FRANCE', 'GERMANY', 'SPAIN') \n",
    "        AND Quantity > 10\n",
    "    ORDER BY Country, Quantity DESC\n",
    "    LIMIT 25\n",
    "\"\"\").df()"
   ]
  },
  {
   "cell_type": "markdown",
   "metadata": {},
   "source": [
    "**TODO: Why did you include (or not include) NULL checks in this query?**\n",
    "\n",
    "We are not aggregating at all, nor sorting or filtering on any columns containing NULLs; so NULLS won't impose unintended behaviour. Guest transactions are not to be excluded neither since we know they are valid transactions and I don't find that big of a problem including products without description."
   ]
  },
  {
   "cell_type": "markdown",
   "metadata": {},
   "source": [
    "---\n",
    "\n",
    "## Part 2: Aggregations (40 points)\n",
    "\n",
    "This section tests: COUNT, SUM, AVG, GROUP BY, HAVING, WHERE vs HAVING"
   ]
  },
  {
   "cell_type": "markdown",
   "metadata": {},
   "source": [
    "### Question 2.1: Revenue by Country (10 points)\n",
    "\n",
    "**Business question:** What's our total revenue and transaction count for each country?\n",
    "\n",
    "**Requirements:**\n",
    "- Calculate total revenue (Quantity * Price) per country\n",
    "- Count transactions per country\n",
    "- Only include positive quantities and non-NULL prices\n",
    "- Show: Country, total_revenue, transaction_count\n",
    "- Sort by total_revenue descending\n",
    "- Show all countries\n",
    "\n",
    "**Hint:** Use SUM() and COUNT() with GROUP BY"
   ]
  },
  {
   "cell_type": "code",
   "execution_count": null,
   "metadata": {},
   "outputs": [],
   "source": [
    "# TODO: Write your query here\n",
    "\n"
   ]
  },
  {
   "cell_type": "markdown",
   "metadata": {},
   "source": [
    "**TODO: Which country generates the most revenue? Does this surprise you?**\n",
    "\n",
    "[Your explanation here]"
   ]
  },
  {
   "cell_type": "markdown",
   "metadata": {},
   "source": [
    "---\n",
    "\n",
    "### Question 2.2: Popular Products (10 points)\n",
    "\n",
    "**Business question:** Which products have been ordered more than 1,000 times?\n",
    "\n",
    "**Requirements:**\n",
    "- Group by StockCode and Description\n",
    "- Count how many times each product appears\n",
    "- Calculate total quantity sold for each product\n",
    "- Filter to products with MORE than 1,000 transactions (use HAVING!)\n",
    "- Show: StockCode, Description, transaction_count, total_quantity_sold\n",
    "- Sort by transaction_count descending\n",
    "\n",
    "**Hint:** This requires HAVING, not WHERE, because you're filtering on an aggregate"
   ]
  },
  {
   "cell_type": "code",
   "execution_count": null,
   "metadata": {},
   "outputs": [],
   "source": [
    "# TODO: Write your query here\n",
    "\n"
   ]
  },
  {
   "cell_type": "markdown",
   "metadata": {},
   "source": [
    "**TODO: Explain why you used HAVING instead of WHERE for the >1000 filter:**\n",
    "\n",
    "[Your explanation here]"
   ]
  },
  {
   "cell_type": "markdown",
   "metadata": {},
   "source": [
    "---\n",
    "\n",
    "### Question 2.3: High-Value Customers (10 points)\n",
    "\n",
    "**Business question:** Which customers have spent more than £5,000 total?\n",
    "\n",
    "**Requirements:**\n",
    "- Calculate total spending (SUM of Quantity * Price) per customer\n",
    "- Count their number of transactions\n",
    "- Only include customers with Customer ID (exclude guest checkouts)\n",
    "- Only include positive quantities and prices\n",
    "- Filter to customers with total spending > 5000\n",
    "- Show: Customer ID, total_spent, transaction_count\n",
    "- Sort by total_spent descending\n",
    "\n",
    "**Hint:** Use WHERE for row-level filtering (NULLs, positive values) and HAVING for aggregate filtering (>5000)"
   ]
  },
  {
   "cell_type": "code",
   "execution_count": null,
   "metadata": {},
   "outputs": [],
   "source": [
    "# TODO: Write your query here\n",
    "\n"
   ]
  },
  {
   "cell_type": "markdown",
   "metadata": {},
   "source": [
    "---\n",
    "\n",
    "### Question 2.4: Monthly Revenue Trend (10 points)\n",
    "\n",
    "**Business question:** What's our revenue and transaction count by month?\n",
    "\n",
    "**Requirements:**\n",
    "- Extract month from InvoiceDate (use DATE_TRUNC('month', InvoiceDate))\n",
    "- Calculate total revenue per month\n",
    "- Count transactions per month\n",
    "- Calculate average transaction value per month\n",
    "- Only include positive quantities and prices\n",
    "- Show: month, total_revenue, transaction_count, avg_transaction_value\n",
    "- Sort by month chronologically\n",
    "\n",
    "**Hint:** DATE_TRUNC('month', date_column) gives you the first day of each month"
   ]
  },
  {
   "cell_type": "code",
   "execution_count": null,
   "metadata": {},
   "outputs": [],
   "source": [
    "# TODO: Write your query here\n",
    "\n"
   ]
  },
  {
   "cell_type": "markdown",
   "metadata": {},
   "source": [
    "**TODO: Do you see any seasonal patterns in the revenue?**\n",
    "\n",
    "[Your explanation here]"
   ]
  },
  {
   "cell_type": "markdown",
   "metadata": {},
   "source": [
    "---\n",
    "\n",
    "## Part 3: Window Functions (30 points)\n",
    "\n",
    "This section tests: ROW_NUMBER, LAG, moving averages"
   ]
  },
  {
   "cell_type": "markdown",
   "metadata": {},
   "source": [
    "### Question 3.1: Latest Purchase Per Customer (8 points)\n",
    "\n",
    "**Business question:** What was each customer's most recent purchase?\n",
    "\n",
    "**Requirements:**\n",
    "- Use ROW_NUMBER() to rank transactions per customer by date\n",
    "- Partition by Customer ID\n",
    "- Order by InvoiceDate descending (most recent first)\n",
    "- Filter to only the most recent transaction (row_num = 1)\n",
    "- Only include customers with Customer ID (no guest checkouts)\n",
    "- Show: Customer ID, Invoice, InvoiceDate, Description, Quantity, Price\n",
    "- Sort by InvoiceDate descending\n",
    "- Show first 20 customers\n",
    "\n",
    "**Hint:** You'll need a subquery - use ROW_NUMBER() in inner query, filter in outer query"
   ]
  },
  {
   "cell_type": "code",
   "execution_count": null,
   "metadata": {},
   "outputs": [],
   "source": [
    "# TODO: Write your query here\n",
    "# Structure: \n",
    "# SELECT ... FROM (\n",
    "#     SELECT ..., ROW_NUMBER() OVER (...) as row_num\n",
    "#     FROM retail\n",
    "# )\n",
    "# WHERE row_num = 1\n",
    "\n"
   ]
  },
  {
   "cell_type": "markdown",
   "metadata": {},
   "source": [
    "**TODO: Why did you use a window function instead of GROUP BY for this question?**\n",
    "\n",
    "[Your explanation here]"
   ]
  },
  {
   "cell_type": "markdown",
   "metadata": {},
   "source": [
    "---\n",
    "\n",
    "### Question 3.2: Week-over-Week Revenue Change (12 points)\n",
    "\n",
    "**Business question:** How is our weekly revenue changing week-over-week?\n",
    "\n",
    "**Requirements:**\n",
    "- First, aggregate to weekly level (use DATE_TRUNC('week', InvoiceDate))\n",
    "- Calculate total revenue per week\n",
    "- Use LAG() to get previous week's revenue\n",
    "- Calculate the change (current week - previous week)\n",
    "- Calculate percent change\n",
    "- Only include positive quantities and prices\n",
    "- Show: week, weekly_revenue, prev_week_revenue, revenue_change, pct_change\n",
    "- Sort by week chronologically\n",
    "- Show all weeks\n",
    "\n",
    "**Hint:** Build this incrementally - first get weekly totals, then add LAG, then calculate changes"
   ]
  },
  {
   "cell_type": "code",
   "execution_count": null,
   "metadata": {},
   "outputs": [],
   "source": [
    "# TODO: Write your query here\n",
    "# Consider using a WITH clause (CTE) to make it cleaner:\n",
    "# WITH weekly AS (\n",
    "#     SELECT ... GROUP BY week\n",
    "# )\n",
    "# SELECT ..., LAG(...) OVER (ORDER BY week) FROM weekly\n",
    "\n"
   ]
  },
  {
   "cell_type": "markdown",
   "metadata": {},
   "source": [
    "**TODO: Which week had the biggest increase in revenue? What might explain this?**\n",
    "\n",
    "[Your explanation here]"
   ]
  },
  {
   "cell_type": "markdown",
   "metadata": {},
   "source": [
    "---\n",
    "\n",
    "### Question 3.3: 7-Day Moving Average (10 points)\n",
    "\n",
    "**Business question:** What's the 7-day moving average of daily revenue?\n",
    "\n",
    "**Requirements:**\n",
    "- First, aggregate to daily level (DATE_TRUNC('day', InvoiceDate) or just InvoiceDate::DATE)\n",
    "- Calculate total revenue per day\n",
    "- Use window function with ROWS BETWEEN to calculate 7-day moving average\n",
    "- The moving average should include current day + 6 days before\n",
    "- Only include positive quantities and prices\n",
    "- Show: date, daily_revenue, moving_avg_7day\n",
    "- Sort by date\n",
    "- Show first 30 days\n",
    "\n",
    "**Hint:** ROWS BETWEEN 6 PRECEDING AND CURRENT ROW gives you 7 days total"
   ]
  },
  {
   "cell_type": "code",
   "execution_count": null,
   "metadata": {},
   "outputs": [],
   "source": [
    "# TODO: Write your query here\n",
    "# WITH daily AS (\n",
    "#     SELECT date, SUM(...) as daily_revenue\n",
    "#     FROM retail\n",
    "#     GROUP BY date\n",
    "# )\n",
    "# SELECT \n",
    "#     date,\n",
    "#     daily_revenue,\n",
    "#     AVG(daily_revenue) OVER (ORDER BY date ROWS BETWEEN 6 PRECEDING AND CURRENT ROW) as moving_avg\n",
    "# FROM daily\n",
    "\n"
   ]
  },
  {
   "cell_type": "markdown",
   "metadata": {},
   "source": [
    "**TODO: Why is a moving average useful for analyzing daily revenue?**\n",
    "\n",
    "[Your explanation here]"
   ]
  },
  {
   "cell_type": "markdown",
   "metadata": {},
   "source": [
    "---\n",
    "\n",
    "## Bonus Question (10 points)\n",
    "\n",
    "This tests: Synthesis of multiple concepts (window functions + GROUP BY)"
   ]
  },
  {
   "cell_type": "markdown",
   "metadata": {},
   "source": [
    "### Bonus: Top Product Per Country (10 points)\n",
    "\n",
    "**Business question:** What's the #1 best-selling product (by revenue) in each country?\n",
    "\n",
    "**Requirements:**\n",
    "- Calculate total revenue per product per country\n",
    "- Rank products within each country by revenue\n",
    "- Show only the #1 product for each country\n",
    "- Only include positive quantities and prices\n",
    "- Show: Country, StockCode, Description, total_revenue, rank\n",
    "- Sort by Country\n",
    "\n",
    "**Strategy:**\n",
    "1. First: GROUP BY country and product to get revenue per product per country\n",
    "2. Then: Use ROW_NUMBER() to rank products within each country\n",
    "3. Finally: Filter to rank = 1\n",
    "\n",
    "**Hint:** This combines aggregation (GROUP BY) with window functions (ROW_NUMBER)"
   ]
  },
  {
   "cell_type": "code",
   "execution_count": null,
   "metadata": {},
   "outputs": [],
   "source": [
    "# TODO: Write your query here (BONUS)\n",
    "# This is challenging! Break it into steps:\n",
    "# 1. Inner query: GROUP BY country and product\n",
    "# 2. Middle query: Add ROW_NUMBER() partitioned by country\n",
    "# 3. Outer query: Filter to row_num = 1\n",
    "\n"
   ]
  },
  {
   "cell_type": "markdown",
   "metadata": {},
   "source": [
    "**TODO: (Bonus) Explain your approach to this question:**\n",
    "\n",
    "[Your explanation here]"
   ]
  },
  {
   "cell_type": "markdown",
   "metadata": {},
   "source": [
    "---\n",
    "\n",
    "## Submission Checklist\n",
    "\n",
    "Before submitting, verify:\n",
    "\n",
    "- [ ] All TODO sections completed\n",
    "- [ ] All queries produce results (no errors)\n",
    "- [ ] All query outputs are visible\n",
    "- [ ] All markdown explanations completed\n",
    "- [ ] SQL formatted nicely (uppercase keywords, indented)\n",
    "- [ ] NULL values handled appropriately (IS NULL, not = NULL)\n",
    "- [ ] **CRITICAL:** Kernel → Restart & Run All Cells (no errors)\n",
    "- [ ] File renamed to `hw1_[your_name].ipynb`\n",
    "\n",
    "---\n",
    "\n",
    "## Reflection (Optional but Recommended)\n",
    "\n",
    "**What was the most challenging part of this assignment?**\n",
    "\n",
    "[Your answer here]\n",
    "\n",
    "**What concept do you feel most confident about now?**\n",
    "\n",
    "[Your answer here]\n",
    "\n",
    "**What would you like more practice with?**\n",
    "\n",
    "[Your answer here]\n",
    "\n",
    "---\n",
    "\n",
    "**Great work! 🎉** You've completed queries on 525,000 rows of real data. This is the kind of work data professionals do every day. Be proud!"
   ]
  }
 ],
 "metadata": {
  "kernelspec": {
   "display_name": "ECBS5294",
   "language": "python",
   "name": "python3"
  },
  "language_info": {
   "codemirror_mode": {
    "name": "ipython",
    "version": 3
   },
   "file_extension": ".py",
   "mimetype": "text/x-python",
   "name": "python",
   "nbconvert_exporter": "python",
   "pygments_lexer": "ipython3",
   "version": "3.14.0"
  }
 },
 "nbformat": 4,
 "nbformat_minor": 4
}

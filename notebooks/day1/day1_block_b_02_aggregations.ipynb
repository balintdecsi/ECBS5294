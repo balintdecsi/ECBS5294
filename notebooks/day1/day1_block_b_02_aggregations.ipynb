{
 "cells": [
  {
   "cell_type": "markdown",
   "metadata": {},
   "source": [
    "# Day 1, Block B: Aggregations & GROUP BY\n",
    "\n",
    "**Duration:** 25-30 minutes  \n",
    "**Course:** ECBS5294 - Introduction to Data Science: Working with Data  \n",
    "**Instructor:** Eduardo Ariño de la Rubia\n",
    "\n",
    "---\n",
    "\n",
    "## Learning Objectives\n",
    "\n",
    "By the end of this session, you will be able to:\n",
    "\n",
    "1. **Use aggregate functions** (COUNT, SUM, AVG, MIN, MAX)\n",
    "2. **Group data** with GROUP BY\n",
    "3. **Filter groups** with HAVING\n",
    "4. **Understand the critical difference** between WHERE and HAVING\n",
    "5. **Handle NULL values** in aggregations\n",
    "6. **Write queries** that answer business questions with summaries\n",
    "\n",
    "---"
   ]
  },
  {
   "cell_type": "markdown",
   "metadata": {},
   "source": [
    "## 1. Setup & Recap\n",
    "\n",
    "### What We Learned Last Time\n",
    "\n",
    "In Notebook 1, we learned:\n",
    "- **SELECT** - Choose columns\n",
    "- **WHERE** - Filter rows\n",
    "- **ORDER BY** - Sort results\n",
    "- **NULL handling** - IS NULL, not = NULL!\n",
    "\n",
    "### What's Next\n",
    "\n",
    "Now we'll learn to **summarize** data:\n",
    "- \"How many transactions?\"\n",
    "- \"What's the total revenue?\"\n",
    "- \"What's the average price per category?\"\n",
    "\n",
    "This is where SQL gets really powerful for analytics!\n",
    "\n",
    "---"
   ]
  },
  {
   "cell_type": "code",
   "execution_count": null,
   "metadata": {
    "execution": {
     "iopub.execute_input": "2025-10-13T14:56:50.653854Z",
     "iopub.status.busy": "2025-10-13T14:56:50.653790Z",
     "iopub.status.idle": "2025-10-13T14:56:50.869253Z",
     "shell.execute_reply": "2025-10-13T14:56:50.868680Z"
    }
   },
   "outputs": [],
   "source": [
    "# Imports\n",
    "import duckdb\n",
    "import pandas as pd\n",
    "import numpy as np\n",
    "import warnings\n",
    "\n",
    "warnings.filterwarnings('ignore')\n",
    "\n",
    "print(\"✅ Libraries imported!\")"
   ]
  },
  {
   "cell_type": "code",
   "execution_count": null,
   "metadata": {
    "execution": {
     "iopub.execute_input": "2025-10-13T14:56:50.908865Z",
     "iopub.status.busy": "2025-10-13T14:56:50.908562Z",
     "iopub.status.idle": "2025-10-13T14:56:50.949970Z",
     "shell.execute_reply": "2025-10-13T14:56:50.949711Z"
    }
   },
   "outputs": [],
   "source": [
    "# Connect to DuckDB and load cafe sales data with proper types\n",
    "con = duckdb.connect(':memory:')\n",
    "\n",
    "# Clean the data types (just like we did in Notebook 1!)\n",
    "con.execute(\"\"\"\n",
    "    CREATE OR REPLACE TABLE cafe AS\n",
    "    SELECT \n",
    "        \"Transaction ID\",\n",
    "        Item,\n",
    "        TRY_CAST(Quantity AS INTEGER) AS Quantity,\n",
    "        TRY_CAST(\"Price Per Unit\" AS DECIMAL(10,2)) AS \"Price Per Unit\",\n",
    "        TRY_CAST(\"Total Spent\" AS DECIMAL(10,2)) AS \"Total Spent\",\n",
    "        \"Payment Method\",\n",
    "        Location,\n",
    "        TRY_CAST(\"Transaction Date\" AS DATE) AS \"Transaction Date\"\n",
    "    FROM '../../data/day1/dirty_cafe_sales.csv'\n",
    "\"\"\")\n",
    "\n",
    "print(\"✅ Database connected and table loaded with clean types!\")"
   ]
  },
  {
   "cell_type": "code",
   "execution_count": null,
   "metadata": {
    "execution": {
     "iopub.execute_input": "2025-10-13T14:56:50.951028Z",
     "iopub.status.busy": "2025-10-13T14:56:50.950960Z",
     "iopub.status.idle": "2025-10-13T14:56:50.956457Z",
     "shell.execute_reply": "2025-10-13T14:56:50.956258Z"
    }
   },
   "outputs": [],
   "source": [
    "# Quick check\n",
    "con.execute(\"SELECT * FROM cafe LIMIT 3\").df()"
   ]
  },
  {
   "cell_type": "markdown",
   "metadata": {},
   "source": [
    "---\n",
    "\n",
    "## 2. What Are Aggregate Functions?\n",
    "\n",
    "> **Aggregate functions collapse many rows into one summary value**\n",
    "\n",
    "Think about it:\n",
    "- You have 10,000 transaction rows\n",
    "- You want to know: \"What's the total revenue?\"\n",
    "- Aggregate function: **Collapses 10,000 rows → 1 number**\n",
    "\n",
    "### Common Aggregate Functions\n",
    "\n",
    "| Function | What it does | Example |\n",
    "|----------|--------------|----------|\n",
    "| `COUNT(*)` | Counts all rows | How many transactions? |\n",
    "| `COUNT(column)` | Counts non-NULL values | How many have payment method? |\n",
    "| `SUM(column)` | Adds up numbers | Total revenue? |\n",
    "| `AVG(column)` | Average (mean) | Average price? |\n",
    "| `MIN(column)` | Smallest value | Cheapest item? |\n",
    "| `MAX(column)` | Largest value | Most expensive item? |\n",
    "\n",
    "---"
   ]
  },
  {
   "cell_type": "markdown",
   "metadata": {},
   "source": [
    "## 3. COUNT: How Many Rows?\n",
    "\n",
    "### COUNT(*) - Count All Rows\n",
    "\n",
    "**Business question:** \"How many transactions do we have?\""
   ]
  },
  {
   "cell_type": "code",
   "execution_count": null,
   "metadata": {
    "execution": {
     "iopub.execute_input": "2025-10-13T14:56:50.957526Z",
     "iopub.status.busy": "2025-10-13T14:56:50.957459Z",
     "iopub.status.idle": "2025-10-13T14:56:50.959861Z",
     "shell.execute_reply": "2025-10-13T14:56:50.959643Z"
    }
   },
   "outputs": [],
   "source": [
    "con.execute(\"\"\"\n",
    "    SELECT COUNT(*) AS total_transactions\n",
    "    FROM cafe\n",
    "\"\"\").df()"
   ]
  },
  {
   "cell_type": "markdown",
   "metadata": {},
   "source": [
    "**What happened?**\n",
    "- 10,000 rows → collapsed to 1 row\n",
    "- Result: The count\n",
    "\n",
    "This is the essence of aggregation!"
   ]
  },
  {
   "cell_type": "markdown",
   "metadata": {},
   "source": [
    "### COUNT(column) - Count Non-NULL Values\n",
    "\n",
    "**Business question:** \"How many transactions have a recorded payment method?\""
   ]
  },
  {
   "cell_type": "code",
   "execution_count": null,
   "metadata": {
    "execution": {
     "iopub.execute_input": "2025-10-13T14:56:50.960913Z",
     "iopub.status.busy": "2025-10-13T14:56:50.960840Z",
     "iopub.status.idle": "2025-10-13T14:56:50.963413Z",
     "shell.execute_reply": "2025-10-13T14:56:50.963235Z"
    }
   },
   "outputs": [],
   "source": [
    "con.execute(\"\"\"\n",
    "    SELECT \n",
    "        COUNT(*) AS all_rows,\n",
    "        COUNT(\"Payment Method\") AS with_payment_method\n",
    "    FROM cafe\n",
    "\"\"\").df()"
   ]
  },
  {
   "cell_type": "markdown",
   "metadata": {},
   "source": [
    "**Critical difference:**\n",
    "- `COUNT(*)` counts **every row**, including rows with NULLs\n",
    "- `COUNT(column)` counts only **non-NULL values** in that column\n",
    "\n",
    "This is one of the most important NULL behaviors to understand!"
   ]
  },
  {
   "cell_type": "markdown",
   "metadata": {},
   "source": [
    "### Example: Finding Missing Data Percentage"
   ]
  },
  {
   "cell_type": "code",
   "execution_count": null,
   "metadata": {
    "execution": {
     "iopub.execute_input": "2025-10-13T14:56:50.964427Z",
     "iopub.status.busy": "2025-10-13T14:56:50.964363Z",
     "iopub.status.idle": "2025-10-13T14:56:50.966953Z",
     "shell.execute_reply": "2025-10-13T14:56:50.966766Z"
    }
   },
   "outputs": [],
   "source": [
    "con.execute(\"\"\"\n",
    "    SELECT \n",
    "        COUNT(*) AS total_rows,\n",
    "        COUNT(\"Payment Method\") AS with_payment,\n",
    "        COUNT(*) - COUNT(\"Payment Method\") AS missing_payment,\n",
    "        ROUND(100.0 * (COUNT(*) - COUNT(\"Payment Method\")) / COUNT(*), 2) AS pct_missing\n",
    "    FROM cafe\n",
    "\"\"\").df()"
   ]
  },
  {
   "cell_type": "markdown",
   "metadata": {},
   "source": [
    "**Business insight:** ~26% of our transactions are missing payment method data!"
   ]
  },
  {
   "cell_type": "markdown",
   "metadata": {},
   "source": [
    "---\n",
    "\n",
    "## 4. SUM: Add It Up\n",
    "\n",
    "**Business question:** \"What's our total revenue?\""
   ]
  },
  {
   "cell_type": "code",
   "execution_count": null,
   "metadata": {
    "execution": {
     "iopub.execute_input": "2025-10-13T14:56:50.967904Z",
     "iopub.status.busy": "2025-10-13T14:56:50.967850Z",
     "iopub.status.idle": "2025-10-13T14:56:50.970101Z",
     "shell.execute_reply": "2025-10-13T14:56:50.969921Z"
    }
   },
   "outputs": [],
   "source": [
    "con.execute(\"\"\"\n",
    "    SELECT \n",
    "        SUM(\"Price Per Unit\"* Quantity) AS total_revenue\n",
    "    FROM cafe\n",
    "    WHERE \"Price Per Unit\"IS NOT NULL AND Quantity IS NOT NULL\n",
    "\"\"\").df()"
   ]
  },
  {
   "cell_type": "markdown",
   "metadata": {},
   "source": [
    "**What happened:** Calculated `Price * Quantity` for each row, then summed all values.\n",
    "\n",
    "**Note:** We filter out NULLs in WHERE because we can't calculate revenue if price or quantity is NULL."
   ]
  },
  {
   "cell_type": "markdown",
   "metadata": {},
   "source": [
    "### Example: Multiple Sums"
   ]
  },
  {
   "cell_type": "code",
   "execution_count": null,
   "metadata": {
    "execution": {
     "iopub.execute_input": "2025-10-13T14:56:50.971016Z",
     "iopub.status.busy": "2025-10-13T14:56:50.970963Z",
     "iopub.status.idle": "2025-10-13T14:56:50.973330Z",
     "shell.execute_reply": "2025-10-13T14:56:50.973157Z"
    }
   },
   "outputs": [],
   "source": [
    "con.execute(\"\"\"\n",
    "    SELECT \n",
    "        SUM(\"Price Per Unit\"* Quantity) AS total_revenue,\n",
    "        SUM(Quantity) AS total_items_sold\n",
    "    FROM cafe\n",
    "    WHERE \"Price Per Unit\"IS NOT NULL AND Quantity IS NOT NULL\n",
    "\"\"\").df()"
   ]
  },
  {
   "cell_type": "markdown",
   "metadata": {},
   "source": [
    "---\n",
    "\n",
    "## 5. AVG, MIN, MAX\n",
    "\n",
    "**Business questions:**\n",
    "- \"What's the average price per unit?\"\n",
    "- \"What's our cheapest item?\"\n",
    "- \"What's our most expensive item?\""
   ]
  },
  {
   "cell_type": "code",
   "execution_count": null,
   "metadata": {
    "execution": {
     "iopub.execute_input": "2025-10-13T14:56:50.974343Z",
     "iopub.status.busy": "2025-10-13T14:56:50.974288Z",
     "iopub.status.idle": "2025-10-13T14:56:50.977312Z",
     "shell.execute_reply": "2025-10-13T14:56:50.977047Z"
    }
   },
   "outputs": [],
   "source": [
    "con.execute(\"\"\"\n",
    "    SELECT \n",
    "        ROUND(AVG(\"Price Per Unit\"), 2) AS avg_price,\n",
    "        MIN(\"Price Per Unit\") AS min_price,\n",
    "        MAX(\"Price Per Unit\") AS max_price\n",
    "    FROM cafe\n",
    "    WHERE \"Price Per Unit\"IS NOT NULL\n",
    "\"\"\").df()"
   ]
  },
  {
   "cell_type": "markdown",
   "metadata": {},
   "source": [
    "### All Together: Complete Summary Stats"
   ]
  },
  {
   "cell_type": "code",
   "execution_count": null,
   "metadata": {
    "execution": {
     "iopub.execute_input": "2025-10-13T14:56:50.978513Z",
     "iopub.status.busy": "2025-10-13T14:56:50.978450Z",
     "iopub.status.idle": "2025-10-13T14:56:50.981857Z",
     "shell.execute_reply": "2025-10-13T14:56:50.981642Z"
    }
   },
   "outputs": [],
   "source": [
    "con.execute(\"\"\"\n",
    "    SELECT \n",
    "        COUNT(*) AS transactions_with_data,\n",
    "        SUM(\"Price Per Unit\" * Quantity) AS total_revenue,\n",
    "        ROUND(AVG(\"Price Per Unit\" * Quantity), 2) AS avg_transaction_value,\n",
    "        MIN(\"Price Per Unit\" * Quantity) AS min_transaction,\n",
    "        MAX(\"Price Per Unit\" * Quantity) AS max_transaction\n",
    "    FROM cafe\n",
    "    WHERE \"Price Per Unit\" IS NOT NULL AND Quantity IS NOT NULL\n",
    "\"\"\").df()"
   ]
  },
  {
   "cell_type": "markdown",
   "metadata": {},
   "source": [
    "**This is powerful!** One query gives you a complete statistical summary."
   ]
  },
  {
   "cell_type": "markdown",
   "metadata": {},
   "source": [
    "---\n",
    "\n",
    "## 6. NULL Behavior in Aggregates\n",
    "\n",
    "> **🚨 CRITICAL: Understand how aggregates handle NULL**\n",
    "\n",
    "Let's see it in action:"
   ]
  },
  {
   "cell_type": "code",
   "execution_count": null,
   "metadata": {
    "execution": {
     "iopub.execute_input": "2025-10-13T14:56:50.982878Z",
     "iopub.status.busy": "2025-10-13T14:56:50.982805Z",
     "iopub.status.idle": "2025-10-13T14:56:50.985910Z",
     "shell.execute_reply": "2025-10-13T14:56:50.985709Z"
    }
   },
   "outputs": [],
   "source": [
    "# Create a small example table with NULLs\n",
    "con.execute(\"\"\"\n",
    "    CREATE OR REPLACE TABLE example AS\n",
    "    SELECT\n",
    "        id,\n",
    "        AVG(value) AS total_value\n",
    "    FROM (VALUES \n",
    "        (1, 10),\n",
    "        (2, 20),\n",
    "        (3, NULL),\n",
    "        (3, NULL),\n",
    "        (4, 15),    \n",
    "        (4, 30),\n",
    "        (4, NULL)    \n",
    "    ) AS t(id, value)\n",
    "    GROUP BY id\n",
    "\"\"\")\n",
    "\n",
    "con.execute(\"SELECT * FROM example\").df()"
   ]
  },
  {
   "cell_type": "code",
   "execution_count": null,
   "metadata": {
    "execution": {
     "iopub.execute_input": "2025-10-13T14:56:50.986848Z",
     "iopub.status.busy": "2025-10-13T14:56:50.986791Z",
     "iopub.status.idle": "2025-10-13T14:56:50.989387Z",
     "shell.execute_reply": "2025-10-13T14:56:50.989188Z"
    }
   },
   "outputs": [],
   "source": [
    "# How do aggregates handle the NULL?\n",
    "con.execute(\"\"\"\n",
    "    SELECT \n",
    "        COUNT(*) AS count_all_rows,\n",
    "        COUNT(value) AS count_non_null_values,\n",
    "        SUM(value) AS sum_values,\n",
    "        AVG(value) AS avg_values\n",
    "    FROM example\n",
    "\"\"\").df()"
   ]
  },
  {
   "cell_type": "markdown",
   "metadata": {},
   "source": [
    "**What happened?**\n",
    "- `COUNT(*)` = 4 (all rows, including the one with NULL)\n",
    "- `COUNT(value)` = 3 (only non-NULL values)\n",
    "- `SUM(value)` = 60 (10 + 20 + 30, NULL ignored)\n",
    "- `AVG(value)` = 20 (sum of 60 ÷ 3 non-NULL values, **not** ÷ 4)\n",
    "\n",
    "**Key insight:** Most aggregates **ignore NULLs** (except COUNT(*))."
   ]
  },
  {
   "cell_type": "markdown",
   "metadata": {},
   "source": [
    "### Why This Matters\n",
    "\n",
    "**Scenario:** You have revenue data with some missing values.\n",
    "\n",
    "❌ **If you use 0 for missing:**\n",
    "```python\n",
    "df['revenue'].fillna(0)\n",
    "```\n",
    "→ Average includes the zeros (drags average down)\n",
    "\n",
    "✅ **If you use NULL for missing:**\n",
    "```python\n",
    "# Leave as NULL\n",
    "```\n",
    "→ Average excludes NULLs (average of known values)\n",
    "\n",
    "**Different meaning, different results!** This is what we learned in Block A about missing values."
   ]
  },
  {
   "cell_type": "markdown",
   "metadata": {},
   "source": [
    "---\n",
    "\n",
    "## 7. GROUP BY: The Game Changer\n",
    "\n",
    "> **Mental model: \"For each X, calculate Y\"**\n",
    "\n",
    "So far, we've aggregated **all rows**:\n",
    "- \"What's the **total** revenue?\" → One number\n",
    "\n",
    "But what if we want:\n",
    "- \"What's the total revenue **per payment method**?\" → One number per payment method\n",
    "- \"What's the total revenue **per item**?\" → One number per item\n",
    "\n",
    "This is what **GROUP BY** does!"
   ]
  },
  {
   "cell_type": "markdown",
   "metadata": {},
   "source": [
    "### Example 1: Count by Payment Method\n",
    "\n",
    "**Business question:** \"How many transactions per payment method?\""
   ]
  },
  {
   "cell_type": "code",
   "execution_count": null,
   "metadata": {
    "execution": {
     "iopub.execute_input": "2025-10-13T14:56:50.990570Z",
     "iopub.status.busy": "2025-10-13T14:56:50.990511Z",
     "iopub.status.idle": "2025-10-13T14:56:50.993662Z",
     "shell.execute_reply": "2025-10-13T14:56:50.993487Z"
    }
   },
   "outputs": [],
   "source": [
    "con.execute(\"\"\"\n",
    "    SELECT \n",
    "        \"Payment Method\",\n",
    "        COUNT(*) AS transaction_count\n",
    "    FROM cafe\n",
    "    GROUP BY \"Payment Method\"\n",
    "    ORDER BY transaction_count DESC\n",
    "\"\"\").df()"
   ]
  },
  {
   "cell_type": "markdown",
   "metadata": {},
   "source": [
    "**What happened?**\n",
    "\n",
    "1. GROUP BY split data into groups (one per payment method)\n",
    "2. COUNT(*) calculated within each group\n",
    "3. Result: One row per payment method\n",
    "\n",
    "**Before:** 10,000 rows  \n",
    "**After:** 3-5 rows (one per payment method)"
   ]
  },
  {
   "cell_type": "markdown",
   "metadata": {},
   "source": [
    "### Visualizing GROUP BY\n",
    "\n",
    "```\n",
    "Original data (1000s of rows):\n",
    "Payment_Method | Price\n",
    "Credit Card    | 5.00\n",
    "Credit Card    | 3.50\n",
    "Cash           | 2.00\n",
    "Cash           | 4.00\n",
    "Credit Card    | 6.00\n",
    "...\n",
    "\n",
    "GROUP BY Payment_Method:\n",
    "\n",
    "Group 1 (Credit Card): 5.00, 3.50, 6.00, ...\n",
    "Group 2 (Cash): 2.00, 4.00, ...\n",
    "Group 3 (Debit): ...\n",
    "\n",
    "Then COUNT(*) within each group:\n",
    "\n",
    "Payment_Method | transaction_count\n",
    "Credit Card    | 3452\n",
    "Cash           | 2103\n",
    "Debit          | 1876\n",
    "```"
   ]
  },
  {
   "cell_type": "markdown",
   "metadata": {},
   "source": [
    "### Example 2: Revenue by Item\n",
    "\n",
    "**Business question:** \"What's our revenue per product?\""
   ]
  },
  {
   "cell_type": "code",
   "execution_count": null,
   "metadata": {
    "execution": {
     "iopub.execute_input": "2025-10-13T14:56:50.994654Z",
     "iopub.status.busy": "2025-10-13T14:56:50.994602Z",
     "iopub.status.idle": "2025-10-13T14:56:50.997716Z",
     "shell.execute_reply": "2025-10-13T14:56:50.997542Z"
    }
   },
   "outputs": [],
   "source": [
    "con.execute(\"\"\"\n",
    "    SELECT \n",
    "        Item,\n",
    "        SUM(\"Price Per Unit\"* Quantity) AS total_revenue\n",
    "    FROM cafe\n",
    "    WHERE \"Price Per Unit\"IS NOT NULL AND Quantity IS NOT NULL\n",
    "    GROUP BY Item\n",
    "    ORDER BY total_revenue DESC\n",
    "    LIMIT 10\n",
    "\"\"\").df()"
   ]
  },
  {
   "cell_type": "markdown",
   "metadata": {},
   "source": [
    "**Business insight:** These are our top-selling products by revenue!"
   ]
  },
  {
   "cell_type": "markdown",
   "metadata": {},
   "source": [
    "### Example 3: Multiple Aggregates per Group\n",
    "\n",
    "**Business question:** \"For each item, show transactions, revenue, and average price.\""
   ]
  },
  {
   "cell_type": "code",
   "execution_count": null,
   "metadata": {
    "execution": {
     "iopub.execute_input": "2025-10-13T14:56:50.998696Z",
     "iopub.status.busy": "2025-10-13T14:56:50.998642Z",
     "iopub.status.idle": "2025-10-13T14:56:51.002507Z",
     "shell.execute_reply": "2025-10-13T14:56:51.002290Z"
    }
   },
   "outputs": [],
   "source": [
    "con.execute(\"\"\"\n",
    "    SELECT \n",
    "        Item,\n",
    "        COUNT(*) AS transactions,\n",
    "        ROUND(SUM(\"Price Per Unit\"* Quantity), 2) AS total_revenue,\n",
    "        ROUND(AVG(\"Price Per Unit\"), 2) AS avg_price\n",
    "    FROM cafe\n",
    "    WHERE \"Price Per Unit\"IS NOT NULL AND Quantity IS NOT NULL\n",
    "    GROUP BY Item\n",
    "    ORDER BY total_revenue DESC\n",
    "    LIMIT 10\n",
    "\"\"\").df()"
   ]
  },
  {
   "cell_type": "markdown",
   "metadata": {},
   "source": [
    "**Rich analysis!** Multiple metrics per group."
   ]
  },
  {
   "cell_type": "markdown",
   "metadata": {},
   "source": [
    "---\n",
    "\n",
    "### ⏸️ Pause and Try!\n",
    "\n",
    "**Your task:** Write a complete GROUP BY query to analyze revenue by payment method.\n",
    "\n",
    "**Requirements:**\n",
    "1. Calculate **total revenue** per payment method (`SUM` of Price × Quantity)\n",
    "2. Calculate **average transaction value** per payment method (`AVG` of Price × Quantity)\n",
    "3. Include **count of transactions** per payment method\n",
    "4. Filter out NULL prices and quantities (use `WHERE`)\n",
    "5. Order results by **total revenue descending**\n",
    "\n",
    "Replace the placeholder query in the cell below with your complete SQL query."
   ]
  },
  {
   "cell_type": "markdown",
   "metadata": {},
   "source": [
    "### Example 4: GROUP BY Multiple Columns\n",
    "\n",
    "**Business question:** \"Revenue by item AND payment method.\""
   ]
  },
  {
   "cell_type": "code",
   "execution_count": null,
   "metadata": {
    "execution": {
     "iopub.execute_input": "2025-10-13T14:56:51.003512Z",
     "iopub.status.busy": "2025-10-13T14:56:51.003452Z",
     "iopub.status.idle": "2025-10-13T14:56:51.007306Z",
     "shell.execute_reply": "2025-10-13T14:56:51.007110Z"
    }
   },
   "outputs": [],
   "source": [
    "con.execute(\"\"\"\n",
    "    SELECT \n",
    "        Item,\n",
    "        \"Payment Method\",\n",
    "        COUNT(*) AS transactions,\n",
    "        ROUND(SUM(\"Price Per Unit\"* Quantity), 2) AS revenue\n",
    "    FROM cafe\n",
    "    WHERE \"Price Per Unit\"IS NOT NULL \n",
    "      AND Quantity IS NOT NULL\n",
    "      AND \"Payment Method\" IS NOT NULL\n",
    "    GROUP BY Item, \"Payment Method\"\n",
    "    ORDER BY revenue DESC\n",
    "    LIMIT 15\n",
    "\"\"\").df()"
   ]
  },
  {
   "cell_type": "markdown",
   "metadata": {},
   "source": [
    "**What happened:** One row for each **combination** of (Item, Payment_Method).\n",
    "\n",
    "**Insight:** \"Coffee paid by Credit Card\" vs \"Coffee paid by Cash\" are separate groups."
   ]
  },
  {
   "cell_type": "markdown",
   "metadata": {},
   "source": [
    "---\n",
    "\n",
    "## 8. GROUP BY Rules\n",
    "\n",
    "> **🚨 RULE: Every column in SELECT must be either:**\n",
    "> 1. **In the GROUP BY clause**, OR\n",
    "> 2. **Inside an aggregate function**\n",
    "\n",
    "Let's see what happens if you break this rule:"
   ]
  },
  {
   "cell_type": "code",
   "execution_count": null,
   "metadata": {
    "execution": {
     "iopub.execute_input": "2025-10-13T14:56:51.008254Z",
     "iopub.status.busy": "2025-10-13T14:56:51.008205Z",
     "iopub.status.idle": "2025-10-13T14:56:51.009845Z",
     "shell.execute_reply": "2025-10-13T14:56:51.009652Z"
    }
   },
   "outputs": [],
   "source": [
    "# ❌ WRONG - \"Price Per Unit\" is not in GROUP BY and not aggregated\n",
    "try:\n",
    "    con.execute(\"\"\"\n",
    "        SELECT \n",
    "            Item,\n",
    "            \"Price Per Unit\",\n",
    "            COUNT(*) AS transactions\n",
    "        FROM cafe\n",
    "        GROUP BY Item\n",
    "    \"\"\").df()\n",
    "except Exception as e:\n",
    "    print(f\"❌ Error: {e}\")"
   ]
  },
  {
   "cell_type": "markdown",
   "metadata": {},
   "source": [
    "**Why this fails:** \n",
    "- We're grouping by `Item`\n",
    "- But `Price` is not in GROUP BY\n",
    "- Each item has MANY prices - which one should SQL show?\n",
    "- SQL doesn't know, so it errors!"
   ]
  },
  {
   "cell_type": "code",
   "execution_count": null,
   "metadata": {
    "execution": {
     "iopub.execute_input": "2025-10-13T14:56:51.010696Z",
     "iopub.status.busy": "2025-10-13T14:56:51.010649Z",
     "iopub.status.idle": "2025-10-13T14:56:51.013837Z",
     "shell.execute_reply": "2025-10-13T14:56:51.013629Z"
    }
   },
   "outputs": [],
   "source": [
    "# ✅ CORRECT - \"Price Per Unit\" is aggregated\n",
    "con.execute(\"\"\"\n",
    "    SELECT \n",
    "        Item,\n",
    "        ROUND(AVG(\"Price Per Unit\"), 2) AS avg_price,\n",
    "        COUNT(*) AS transactions\n",
    "    FROM cafe\n",
    "    WHERE \"Price Per Unit\"IS NOT NULL\n",
    "    GROUP BY Item\n",
    "    ORDER BY transactions DESC\n",
    "    LIMIT 10\n",
    "\"\"\").df()"
   ]
  },
  {
   "cell_type": "markdown",
   "metadata": {},
   "source": [
    "**Now it works!** Because `Price` is aggregated with `AVG()`."
   ]
  },
  {
   "cell_type": "markdown",
   "metadata": {},
   "source": [
    "---\n",
    "\n",
    "## 9. WHERE vs HAVING: The Critical Distinction\n",
    "\n",
    "> **🚨 MOST IMPORTANT CONCEPT IN THIS NOTEBOOK**\n",
    "\n",
    "### The Difference\n",
    "\n",
    "| | WHERE | HAVING |\n",
    "|---|---|---|\n",
    "| **What it filters** | Individual rows | Groups (after aggregation) |\n",
    "| **When it runs** | BEFORE grouping | AFTER grouping |\n",
    "| **Can use aggregates?** | ❌ No | ✅ Yes |\n",
    "| **Example** | \"Transactions over $5\" | \"Items with >100 transactions\" |"
   ]
  },
  {
   "cell_type": "markdown",
   "metadata": {},
   "source": [
    "### Example 1: WHERE Filters Rows BEFORE Grouping\n",
    "\n",
    "**Business question:** \"Revenue per item, but only include transactions $4 or more.\""
   ]
  },
  {
   "cell_type": "code",
   "execution_count": null,
   "metadata": {
    "execution": {
     "iopub.execute_input": "2025-10-13T14:56:51.014846Z",
     "iopub.status.busy": "2025-10-13T14:56:51.014791Z",
     "iopub.status.idle": "2025-10-13T14:56:51.018190Z",
     "shell.execute_reply": "2025-10-13T14:56:51.017982Z"
    }
   },
   "outputs": [],
   "source": [
    "con.execute(\"\"\"\n",
    "    SELECT \n",
    "        Item,\n",
    "        COUNT(*) AS transactions,\n",
    "        ROUND(SUM(\"Price Per Unit\" * Quantity), 2) AS revenue\n",
    "    FROM cafe\n",
    "    WHERE \"Price Per Unit\" >= 4.00  -- Filter ROWS before grouping\n",
    "      AND \"Price Per Unit\" IS NOT NULL \n",
    "      AND Quantity IS NOT NULL\n",
    "    GROUP BY Item\n",
    "    ORDER BY revenue DESC\n",
    "    LIMIT 10\n",
    "\"\"\").df()"
   ]
  },
  {
   "cell_type": "markdown",
   "metadata": {},
   "source": [
    "**Execution order:**\n",
    "1. WHERE filters out rows with Price < $4\n",
    "2. Then GROUP BY groups remaining rows\n",
    "3. Then COUNT and SUM within each group"
   ]
  },
  {
   "cell_type": "markdown",
   "metadata": {},
   "source": [
    "### Example 2: HAVING Filters Groups AFTER Aggregation\n",
    "\n",
    "**Business question:** \"Show me items with more than 100 transactions.\""
   ]
  },
  {
   "cell_type": "code",
   "execution_count": null,
   "metadata": {
    "execution": {
     "iopub.execute_input": "2025-10-13T14:56:51.019172Z",
     "iopub.status.busy": "2025-10-13T14:56:51.019121Z",
     "iopub.status.idle": "2025-10-13T14:56:51.022579Z",
     "shell.execute_reply": "2025-10-13T14:56:51.022377Z"
    }
   },
   "outputs": [],
   "source": [
    "con.execute(\"\"\"\n",
    "    SELECT \n",
    "        Item,\n",
    "        COUNT(*) AS transactions,\n",
    "        ROUND(SUM(\"Price Per Unit\"* Quantity), 2) AS revenue\n",
    "    FROM cafe\n",
    "    WHERE \"Price Per Unit\"IS NOT NULL AND Quantity IS NOT NULL\n",
    "    GROUP BY Item\n",
    "    HAVING COUNT(*) > 100  -- Filter GROUPS after aggregation\n",
    "    ORDER BY transactions DESC\n",
    "\"\"\").df()"
   ]
  },
  {
   "cell_type": "markdown",
   "metadata": {},
   "source": [
    "**Execution order:**\n",
    "1. WHERE filters individual rows (NULL check)\n",
    "2. GROUP BY groups remaining rows\n",
    "3. COUNT and SUM within each group\n",
    "4. HAVING filters out groups with COUNT ≤ 100"
   ]
  },
  {
   "cell_type": "markdown",
   "metadata": {},
   "source": [
    "### Example 3: Using Both WHERE and HAVING\n",
    "\n",
    "**Business question:** \"Items with >50 transactions, but only count transactions over $3.\""
   ]
  },
  {
   "cell_type": "code",
   "execution_count": null,
   "metadata": {
    "execution": {
     "iopub.execute_input": "2025-10-13T14:56:51.023523Z",
     "iopub.status.busy": "2025-10-13T14:56:51.023465Z",
     "iopub.status.idle": "2025-10-13T14:56:51.027029Z",
     "shell.execute_reply": "2025-10-13T14:56:51.026841Z"
    }
   },
   "outputs": [],
   "source": [
    "con.execute(\"\"\"\n",
    "    SELECT \n",
    "        Item,\n",
    "        COUNT(*) AS transactions,\n",
    "        ROUND(AVG(\"Price Per Unit\"), 2) AS avg_price,\n",
    "        ROUND(SUM(\"Price Per Unit\"* Quantity), 2) AS revenue\n",
    "    FROM cafe\n",
    "    WHERE \"Price Per Unit\"> 3.00          -- Filter rows: only include price > $3\n",
    "      AND \"Price Per Unit\"IS NOT NULL \n",
    "      AND Quantity IS NOT NULL\n",
    "    GROUP BY Item\n",
    "    HAVING COUNT(*) > 50        -- Filter groups: only show items with >50 transactions\n",
    "    ORDER BY revenue DESC\n",
    "    LIMIT 10\n",
    "\"\"\").df()"
   ]
  },
  {
   "cell_type": "markdown",
   "metadata": {},
   "source": [
    "**Execution order:**\n",
    "1. **WHERE** filters rows (Price > $3)\n",
    "2. **GROUP BY** groups remaining rows by Item\n",
    "3. Aggregates calculated (COUNT, AVG, SUM)\n",
    "4. **HAVING** filters groups (COUNT > 50)\n",
    "5. **ORDER BY** sorts results"
   ]
  },
  {
   "cell_type": "markdown",
   "metadata": {},
   "source": [
    "### Side-by-Side Comparison\n",
    "\n",
    "Let's see the difference clearly:"
   ]
  },
  {
   "cell_type": "code",
   "execution_count": null,
   "metadata": {
    "execution": {
     "iopub.execute_input": "2025-10-13T14:56:51.028013Z",
     "iopub.status.busy": "2025-10-13T14:56:51.027962Z",
     "iopub.status.idle": "2025-10-13T14:56:51.030400Z",
     "shell.execute_reply": "2025-10-13T14:56:51.030213Z"
    }
   },
   "outputs": [],
   "source": [
    "# Query 1: WHERE only\n",
    "result1 = con.execute(\"\"\"\n",
    "    SELECT \n",
    "        \"Payment Method\",\n",
    "        COUNT(*) AS transactions\n",
    "    FROM cafe\n",
    "    WHERE \"Price Per Unit\" > 3.00  -- Filter rows\n",
    "      AND \"Price Per Unit\" IS NOT NULL\n",
    "    GROUP BY \"Payment Method\"\n",
    "    ORDER BY transactions DESC\n",
    "\"\"\").df()\n",
    "\n",
    "print('Query 1: WHERE \"Price Per Unit\" > 3 (filters rows before grouping)')\n",
    "print(result1)\n",
    "print()"
   ]
  },
  {
   "cell_type": "code",
   "execution_count": null,
   "metadata": {
    "execution": {
     "iopub.execute_input": "2025-10-13T14:56:51.031207Z",
     "iopub.status.busy": "2025-10-13T14:56:51.031155Z",
     "iopub.status.idle": "2025-10-13T14:56:51.033446Z",
     "shell.execute_reply": "2025-10-13T14:56:51.033275Z"
    }
   },
   "outputs": [],
   "source": [
    "# Query 2: HAVING only\n",
    "result2 = con.execute(\"\"\"\n",
    "    SELECT \n",
    "        \"Payment Method\",\n",
    "        COUNT(*) AS transactions\n",
    "    FROM cafe\n",
    "    WHERE \"Price Per Unit\"IS NOT NULL\n",
    "    GROUP BY \"Payment Method\"\n",
    "    HAVING COUNT(*) > 100  -- Filter groups\n",
    "\"\"\").df()\n",
    "\n",
    "print(\"Query 2: HAVING COUNT > 100 (filters groups after aggregation)\")\n",
    "print(result2)"
   ]
  },
  {
   "cell_type": "markdown",
   "metadata": {},
   "source": [
    "**See the difference?**\n",
    "- Query 1: Fewer transactions per group (because we filtered rows first)\n",
    "- Query 2: Some payment methods excluded entirely (because their counts were ≤100)"
   ]
  },
  {
   "cell_type": "markdown",
   "metadata": {},
   "source": [
    "### Common Mistake: Using Aggregate in WHERE\n",
    "\n",
    "❌ **This doesn't work:**"
   ]
  },
  {
   "cell_type": "code",
   "execution_count": null,
   "metadata": {
    "execution": {
     "iopub.execute_input": "2025-10-13T14:56:51.034341Z",
     "iopub.status.busy": "2025-10-13T14:56:51.034291Z",
     "iopub.status.idle": "2025-10-13T14:56:51.035975Z",
     "shell.execute_reply": "2025-10-13T14:56:51.035751Z"
    }
   },
   "outputs": [],
   "source": [
    "# ❌ WRONG - Can't use aggregate in WHERE\n",
    "try:\n",
    "    con.execute(\"\"\"\n",
    "        SELECT \n",
    "            Item,\n",
    "            COUNT(*) AS transactions\n",
    "        FROM cafe\n",
    "        WHERE COUNT(*) > 100  -- ❌ Wrong!\n",
    "        GROUP BY Item\n",
    "    \"\"\").df()\n",
    "except Exception as e:\n",
    "    print(f\"❌ Error: {str(e)[:100]}...\")"
   ]
  },
  {
   "cell_type": "markdown",
   "metadata": {},
   "source": [
    "✅ **Use HAVING instead:**"
   ]
  },
  {
   "cell_type": "markdown",
   "metadata": {},
   "source": [
    "---\n",
    "\n",
    "### ⏸️ Pause and Try!\n",
    "\n",
    "**Your task:** Write a complete query using HAVING to filter aggregated groups.\n",
    "\n",
    "**Requirements:**\n",
    "1. Find items with **more than 200 transactions**\n",
    "2. Show: Item name, transaction count, and total revenue\n",
    "3. Filter out NULL prices and quantities (use `WHERE`)\n",
    "4. Use `HAVING` to filter groups (NOT WHERE - this filters after aggregation)\n",
    "5. Order results by **revenue descending**\n",
    "\n",
    "Replace the placeholder query in the cell below with your complete SQL query."
   ]
  },
  {
   "cell_type": "code",
   "execution_count": null,
   "metadata": {
    "execution": {
     "iopub.execute_input": "2025-10-13T14:56:51.036838Z",
     "iopub.status.busy": "2025-10-13T14:56:51.036792Z",
     "iopub.status.idle": "2025-10-13T14:56:51.039629Z",
     "shell.execute_reply": "2025-10-13T14:56:51.039417Z"
    }
   },
   "outputs": [],
   "source": [
    "# ✅ CORRECT - Use HAVING for aggregates\n",
    "con.execute(\"\"\"\n",
    "    SELECT \n",
    "        Item,\n",
    "        COUNT(*) AS transactions\n",
    "    FROM cafe\n",
    "    GROUP BY Item\n",
    "    HAVING COUNT(*) > 100  -- ✅ Correct!\n",
    "    ORDER BY transactions DESC\n",
    "    LIMIT 10\n",
    "\"\"\").df()"
   ]
  },
  {
   "cell_type": "markdown",
   "metadata": {},
   "source": [
    "---\n",
    "\n",
    "## 10. Decision Guide: WHERE vs HAVING\n",
    "\n",
    "**Ask yourself: \"Am I filtering individual rows or aggregated groups?\"**\n",
    "\n",
    "### Use WHERE when:\n",
    "- ✅ Filtering **individual rows**\n",
    "- ✅ Condition doesn't involve aggregates\n",
    "- ✅ Examples:\n",
    "  - \"Only transactions over $5\"\n",
    "  - \"Only coffee sales\"\n",
    "  - \"Only credit card payments\"\n",
    "\n",
    "### Use HAVING when:\n",
    "- ✅ Filtering **groups** after aggregation\n",
    "- ✅ Condition involves aggregates (COUNT, SUM, AVG, etc.)\n",
    "- ✅ Examples:\n",
    "  - \"Items with more than 100 transactions\"\n",
    "  - \"Categories with revenue over $1000\"\n",
    "  - \"Customers with average purchase over $50\"\n",
    "\n",
    "### Use BOTH when:\n",
    "```sql\n",
    "SELECT category, COUNT(*), SUM(revenue)\n",
    "FROM sales\n",
    "WHERE price > 10         -- Filter rows first\n",
    "GROUP BY category\n",
    "HAVING COUNT(*) > 100    -- Then filter groups\n",
    "```\n",
    "\n",
    "---"
   ]
  },
  {
   "cell_type": "markdown",
   "metadata": {},
   "source": [
    "## 11. Putting It All Together\n",
    "\n",
    "### Complex Business Question\n",
    "\n",
    "**Question:** \n",
    "> \"Which items had more than 50 transactions with prices between $4-$7, and what was their total revenue? Show top 10 by revenue.\""
   ]
  },
  {
   "cell_type": "code",
   "execution_count": null,
   "metadata": {
    "execution": {
     "iopub.execute_input": "2025-10-13T14:56:51.040592Z",
     "iopub.status.busy": "2025-10-13T14:56:51.040533Z",
     "iopub.status.idle": "2025-10-13T14:56:51.044143Z",
     "shell.execute_reply": "2025-10-13T14:56:51.043971Z"
    }
   },
   "outputs": [],
   "source": [
    "con.execute(\"\"\"\n",
    "    SELECT \n",
    "        Item,\n",
    "        COUNT(*) AS transactions,\n",
    "        ROUND(AVG(\"Price Per Unit\"), 2) AS avg_price,\n",
    "        ROUND(SUM(\"Price Per Unit\"* Quantity), 2) AS total_revenue\n",
    "    FROM cafe\n",
    "    WHERE \"Price Per Unit\" BETWEEN 4.00 AND 7.00  -- Filter rows: price range\n",
    "      AND \"Price Per Unit\"IS NOT NULL \n",
    "      AND Quantity IS NOT NULL\n",
    "    GROUP BY Item                      -- Group by item\n",
    "    HAVING COUNT(*) > 50               -- Filter groups: >50 transactions\n",
    "    ORDER BY total_revenue DESC        -- Sort by revenue\n",
    "    LIMIT 10                           -- Top 10\n",
    "\"\"\").df()"
   ]
  },
  {
   "cell_type": "markdown",
   "metadata": {},
   "source": [
    "**Breaking it down:**\n",
    "1. **WHERE** - Include only rows with price $4-$7\n",
    "2. **GROUP BY** - Group by Item\n",
    "3. **Aggregates** - COUNT, AVG, SUM within each group\n",
    "4. **HAVING** - Keep only items with >50 transactions\n",
    "5. **ORDER BY** - Sort by revenue descending\n",
    "6. **LIMIT** - Show top 10\n",
    "\n",
    "This query answers a complex business question in 10 lines!"
   ]
  },
  {
   "cell_type": "markdown",
   "metadata": {},
   "source": [
    "---\n",
    "\n",
    "## 12. Common Mistakes Summary\n",
    "\n",
    "### ❌ Mistake 1: Using aggregate in WHERE\n",
    "```sql\n",
    "WHERE COUNT(*) > 100  -- ❌ Wrong!\n",
    "HAVING COUNT(*) > 100 -- ✅ Correct\n",
    "```\n",
    "\n",
    "### ❌ Mistake 2: Forgetting column in GROUP BY\n",
    "```sql\n",
    "SELECT Item, Price, COUNT(*)  -- ❌ Price not in GROUP BY or aggregated\n",
    "FROM sales\n",
    "GROUP BY Item\n",
    "```\n",
    "\n",
    "### ❌ Mistake 3: Expecting detail rows after GROUP BY\n",
    "```sql\n",
    "-- After GROUP BY, you only get one row per group\n",
    "-- Detail rows are gone!\n",
    "SELECT Item, COUNT(*)   -- Only 10 rows if 10 unique items\n",
    "FROM sales              -- Even if sales has 10,000 rows\n",
    "GROUP BY Item\n",
    "```\n",
    "\n",
    "### ❌ Mistake 4: Not handling NULLs\n",
    "```sql\n",
    "-- NULLs will form their own group!\n",
    "SELECT Payment_Method, COUNT(*)\n",
    "FROM sales\n",
    "GROUP BY Payment_Method  -- Includes a NULL group if any NULLs exist\n",
    "```\n",
    "\n",
    "---"
   ]
  },
  {
   "cell_type": "markdown",
   "metadata": {},
   "source": [
    "## 13. Summary: What We Learned\n",
    "\n",
    "### Aggregate Functions\n",
    "1. **COUNT(*)** - Counts all rows (including NULLs)\n",
    "2. **COUNT(column)** - Counts non-NULL values\n",
    "3. **SUM, AVG, MIN, MAX** - All ignore NULLs\n",
    "\n",
    "### GROUP BY\n",
    "4. **Mental model:** \"For each X, calculate Y\"\n",
    "5. **Rule:** SELECT columns must be in GROUP BY or aggregated\n",
    "6. **Result:** One row per group (collapses detail rows)\n",
    "\n",
    "### WHERE vs HAVING\n",
    "7. **WHERE** - Filters rows BEFORE grouping\n",
    "8. **HAVING** - Filters groups AFTER aggregation\n",
    "9. **Can't** use aggregates in WHERE\n",
    "10. **Must** use aggregates in HAVING (that's its purpose!)\n",
    "\n",
    "### Most Important Takeaway\n",
    "> **🚨 Filtering rows? → WHERE**  \n",
    "> **🚨 Filtering groups? → HAVING**\n",
    "\n",
    "Master this distinction and you've mastered aggregations!\n",
    "\n",
    "---"
   ]
  },
  {
   "cell_type": "markdown",
   "metadata": {},
   "source": [
    "## Next: Window Functions\n",
    "\n",
    "In the next notebook, we'll learn **window functions** - GROUP BY's more flexible cousin:\n",
    "- \"I want the total per category, but keep all detail rows\"\n",
    "- \"Show me the latest transaction per customer\"\n",
    "- \"Calculate month-over-month growth\"\n",
    "\n",
    "**The key difference:**\n",
    "- GROUP BY: Collapses rows → fewer rows\n",
    "- Window functions: Keep all rows, add calculations\n",
    "\n",
    "This is advanced SQL, but incredibly powerful!\n",
    "\n",
    "**Ready?** Open `day1_block_b_03_window_functions_primer.ipynb`\n",
    "\n",
    "---\n",
    "\n",
    "**Excellent progress!** 🎉 You can now summarize data like a pro."
   ]
  },
  {
   "cell_type": "markdown",
   "metadata": {},
   "source": [
    "---\n",
    "\n",
    "## ⏸️ Take a 5-Minute Break!\n",
    "\n",
    "Before starting **Window Functions** (Notebook 3), give your brain a rest.\n",
    "\n",
    "Window functions are **conceptually challenging** - they require a different mental model than GROUP BY. You'll learn better with a fresh mind.\n",
    "\n",
    "☕ **Stretch, get water, clear your head!**\n",
    "\n",
    "**When you're ready:** Open `day1_block_b_03_window_functions_primer.ipynb`\n",
    "\n",
    "> **Remember:** Windows PRESERVE rows, GROUP BY COLLAPSES rows. This is the key insight you'll need next!"
   ]
  }
 ],
 "metadata": {
  "kernelspec": {
   "display_name": "ECBS5294",
   "language": "python",
   "name": "python3"
  },
  "language_info": {
   "codemirror_mode": {
    "name": "ipython",
    "version": 3
   },
   "file_extension": ".py",
   "mimetype": "text/x-python",
   "name": "python",
   "nbconvert_exporter": "python",
   "pygments_lexer": "ipython3",
   "version": "3.14.0"
  }
 },
 "nbformat": 4,
 "nbformat_minor": 4
}

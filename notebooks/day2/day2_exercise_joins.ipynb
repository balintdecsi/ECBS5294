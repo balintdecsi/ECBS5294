{
 "cells": [
  {
   "cell_type": "markdown",
   "id": "9e30c6ea",
   "metadata": {},
   "source": [
    "# Day 2 Exercise: The Olist Marketplace Analysis\n",
    "\n",
    "**Your Name:** Bálint Décsi  \n",
    "**Date:** Day 2, Block A  \n",
    "**Course:** ECBS5294 - Introduction to Data Science: Working with Data\n",
    "\n",
    "---"
   ]
  },
  {
   "cell_type": "markdown",
   "id": "04b2e0ed",
   "metadata": {},
   "source": [
    "## 📧 Monday Morning at Olist\n",
    "\n",
    "**Your Role:** Junior Data Analyst at Olist  \n",
    "**Your Location:** São Paulo, Brazil  \n",
    "**Date:** December 2018\n",
    "\n",
    "You're a newly hired Data Analyst at **Olist**, Brazil's largest department store marketplace. Olist connects thousands of small businesses (sellers) with customers across Brazil through a unified e-commerce platform. Think of it as Brazil's answer to Amazon Marketplace or Etsy at scale.\n",
    "\n",
    "You arrive Monday morning to find this email from **Paula Costa**, VP of Marketplace Operations:\n",
    "\n",
    "---\n",
    "\n",
    "**From:** Paula Costa <paula.costa@olist.com>  \n",
    "**To:** You (Data Analytics Team)  \n",
    "**Subject:** URGENT: Q4 Board Meeting Data - Due Wednesday\n",
    "\n",
    "> Team,\n",
    ">\n",
    "> Our Q4 board meeting is Friday morning. I need insights on seller performance, customer behavior, and product trends to present to the executive team. The board is particularly interested in:\n",
    "> \n",
    "> 1. **Revenue drivers** - which product categories are generating the most sales?\n",
    "> 2. **Seller performance** - who are our top-performing sellers by state?\n",
    "> 3. **Customer feedback gaps** - what percentage of orders lack reviews, and why does this matter?\n",
    "> \n",
    "> I need **data-driven answers** by Wednesday EOD. Please analyze our marketplace data (2016-2018) and provide:\n",
    "> - Clear SQL queries that I can verify\n",
    "> - Business insights I can present to non-technical executives\n",
    "> - Recommendations for action\n",
    "> \n",
    "> **Context:** We're evaluating whether to expand seller recruitment in certain states, invest in review incentive programs, and potentially restructure our product category strategy. Your analysis will inform million-dollar decisions.\n",
    "> \n",
    "> I'm counting on you. Let's show the board what data analytics can do.\n",
    "> \n",
    "> — Paula\n",
    "\n",
    "---\n",
    "\n",
    "**Your Mission:** Use SQL joins, aggregations, and data analysis to answer Paula's questions and deliver actionable business insights.\n",
    "\n",
    "---"
   ]
  },
  {
   "cell_type": "markdown",
   "id": "9882621a",
   "metadata": {},
   "source": [
    "## Setup: Load Data and Connect to DuckDB"
   ]
  },
  {
   "cell_type": "code",
   "execution_count": 1,
   "id": "498acb0a",
   "metadata": {},
   "outputs": [
    {
     "name": "stdout",
     "output_type": "stream",
     "text": [
      "✅ Connected to DuckDB!\n"
     ]
    }
   ],
   "source": [
    "# Import libraries\n",
    "import duckdb\n",
    "import pandas as pd\n",
    "import warnings\n",
    "warnings.filterwarnings('ignore')\n",
    "\n",
    "# Connect to in-memory database\n",
    "con = duckdb.connect(':memory:')\n",
    "\n",
    "print(\"✅ Connected to DuckDB!\")"
   ]
  },
  {
   "cell_type": "code",
   "execution_count": 2,
   "id": "a720d861",
   "metadata": {},
   "outputs": [
    {
     "name": "stdout",
     "output_type": "stream",
     "text": [
      "✅ All tables loaded successfully!\n"
     ]
    }
   ],
   "source": [
    "# Load all necessary tables\n",
    "con.execute(\"\"\"\n",
    "    CREATE TABLE orders AS\n",
    "    SELECT * FROM '../../data/day2/block_a/olist_orders_dataset.csv'\n",
    "\"\"\")\n",
    "\n",
    "con.execute(\"\"\"\n",
    "    CREATE TABLE customers AS\n",
    "    SELECT * FROM '../../data/day2/block_a/olist_customers_dataset.csv'\n",
    "\"\"\")\n",
    "\n",
    "con.execute(\"\"\"\n",
    "    CREATE TABLE order_items AS\n",
    "    SELECT * FROM '../../data/day2/block_a/olist_order_items_dataset.csv'\n",
    "\"\"\")\n",
    "\n",
    "con.execute(\"\"\"\n",
    "    CREATE TABLE products AS\n",
    "    SELECT * FROM '../../data/day2/block_a/olist_products_dataset.csv'\n",
    "\"\"\")\n",
    "\n",
    "con.execute(\"\"\"\n",
    "    CREATE TABLE sellers AS\n",
    "    SELECT * FROM '../../data/day2/block_a/olist_sellers_dataset.csv'\n",
    "\"\"\")\n",
    "\n",
    "con.execute(\"\"\"\n",
    "    CREATE TABLE reviews AS\n",
    "    SELECT * FROM '../../data/day2/block_a/olist_order_reviews_dataset.csv'\n",
    "\"\"\")\n",
    "\n",
    "con.execute(\"\"\"\n",
    "    CREATE TABLE categories AS\n",
    "    SELECT * FROM '../../data/day2/block_a/product_category_name_translation.csv'\n",
    "\"\"\")\n",
    "\n",
    "print(\"✅ All tables loaded successfully!\")"
   ]
  },
  {
   "cell_type": "markdown",
   "id": "ff084d85",
   "metadata": {},
   "source": [
    "---\n",
    "\n",
    "## Part 1: In-Class Queries (25 minutes)\n",
    "\n",
    "Complete these 3 queries during class time. Each query is scaffolded with TODO comments to guide you.\n",
    "\n",
    "---"
   ]
  },
  {
   "cell_type": "markdown",
   "id": "17a53e85",
   "metadata": {},
   "source": [
    "### Query 1: Revenue by Product Category (⏱️ 7 minutes)\n",
    "\n",
    "**Paula's Question:**\n",
    "> \"Which product categories generate the most revenue? I need this for Q1 budget allocation decisions. Show me the top 10 categories by total revenue.\"\n",
    "\n",
    "**What you need to do:**\n",
    "- Join `order_items` → `products` → `categories` (to get English category names)\n",
    "- Calculate total revenue per category: `SUM(price)`\n",
    "- Count distinct orders per category\n",
    "- Sort by revenue descending, show top 10\n",
    "\n",
    "**Tables needed:**\n",
    "- `order_items` (has `price` and `product_id`)\n",
    "- `products` (has `product_category_name`)\n",
    "- `categories` (translates Portuguese → English)\n",
    "\n",
    "**Join keys:**\n",
    "- `order_items.product_id = products.product_id`\n",
    "- `products.product_category_name = categories.product_category_name`"
   ]
  },
  {
   "cell_type": "code",
   "execution_count": 4,
   "id": "d6fc38e6",
   "metadata": {},
   "outputs": [
    {
     "data": {
      "application/vnd.microsoft.datawrangler.viewer.v0+json": {
       "columns": [
        {
         "name": "index",
         "rawType": "int64",
         "type": "integer"
        },
        {
         "name": "category_english",
         "rawType": "object",
         "type": "string"
        },
        {
         "name": "order_count",
         "rawType": "int64",
         "type": "integer"
        },
        {
         "name": "total_revenue",
         "rawType": "float64",
         "type": "float"
        }
       ],
       "ref": "df1948f4-2a51-4f4f-8c26-4856adce49b5",
       "rows": [
        [
         "0",
         "health_beauty",
         "8836",
         "1258681.3399999682"
        ],
        [
         "1",
         "watches_gifts",
         "5624",
         "1205005.6799999995"
        ],
        [
         "2",
         "bed_bath_table",
         "9417",
         "1036988.6800000712"
        ],
        [
         "3",
         "sports_leisure",
         "7720",
         "988048.9700000401"
        ],
        [
         "4",
         "computers_accessories",
         "6689",
         "911954.3200000388"
        ],
        [
         "5",
         "furniture_decor",
         "6449",
         "729762.4900000411"
        ],
        [
         "6",
         "cool_stuff",
         "3632",
         "635290.8500000009"
        ],
        [
         "7",
         "housewares",
         "5884",
         "632248.6600000213"
        ],
        [
         "8",
         "auto",
         "3897",
         "592720.1100000107"
        ],
        [
         "9",
         "garden_tools",
         "3518",
         "485256.46000001475"
        ]
       ],
       "shape": {
        "columns": 3,
        "rows": 10
       }
      },
      "text/html": [
       "<div>\n",
       "<style scoped>\n",
       "    .dataframe tbody tr th:only-of-type {\n",
       "        vertical-align: middle;\n",
       "    }\n",
       "\n",
       "    .dataframe tbody tr th {\n",
       "        vertical-align: top;\n",
       "    }\n",
       "\n",
       "    .dataframe thead th {\n",
       "        text-align: right;\n",
       "    }\n",
       "</style>\n",
       "<table border=\"1\" class=\"dataframe\">\n",
       "  <thead>\n",
       "    <tr style=\"text-align: right;\">\n",
       "      <th></th>\n",
       "      <th>category_english</th>\n",
       "      <th>order_count</th>\n",
       "      <th>total_revenue</th>\n",
       "    </tr>\n",
       "  </thead>\n",
       "  <tbody>\n",
       "    <tr>\n",
       "      <th>0</th>\n",
       "      <td>health_beauty</td>\n",
       "      <td>8836</td>\n",
       "      <td>1258681.34</td>\n",
       "    </tr>\n",
       "    <tr>\n",
       "      <th>1</th>\n",
       "      <td>watches_gifts</td>\n",
       "      <td>5624</td>\n",
       "      <td>1205005.68</td>\n",
       "    </tr>\n",
       "    <tr>\n",
       "      <th>2</th>\n",
       "      <td>bed_bath_table</td>\n",
       "      <td>9417</td>\n",
       "      <td>1036988.68</td>\n",
       "    </tr>\n",
       "    <tr>\n",
       "      <th>3</th>\n",
       "      <td>sports_leisure</td>\n",
       "      <td>7720</td>\n",
       "      <td>988048.97</td>\n",
       "    </tr>\n",
       "    <tr>\n",
       "      <th>4</th>\n",
       "      <td>computers_accessories</td>\n",
       "      <td>6689</td>\n",
       "      <td>911954.32</td>\n",
       "    </tr>\n",
       "    <tr>\n",
       "      <th>5</th>\n",
       "      <td>furniture_decor</td>\n",
       "      <td>6449</td>\n",
       "      <td>729762.49</td>\n",
       "    </tr>\n",
       "    <tr>\n",
       "      <th>6</th>\n",
       "      <td>cool_stuff</td>\n",
       "      <td>3632</td>\n",
       "      <td>635290.85</td>\n",
       "    </tr>\n",
       "    <tr>\n",
       "      <th>7</th>\n",
       "      <td>housewares</td>\n",
       "      <td>5884</td>\n",
       "      <td>632248.66</td>\n",
       "    </tr>\n",
       "    <tr>\n",
       "      <th>8</th>\n",
       "      <td>auto</td>\n",
       "      <td>3897</td>\n",
       "      <td>592720.11</td>\n",
       "    </tr>\n",
       "    <tr>\n",
       "      <th>9</th>\n",
       "      <td>garden_tools</td>\n",
       "      <td>3518</td>\n",
       "      <td>485256.46</td>\n",
       "    </tr>\n",
       "  </tbody>\n",
       "</table>\n",
       "</div>"
      ],
      "text/plain": [
       "        category_english  order_count  total_revenue\n",
       "0          health_beauty         8836     1258681.34\n",
       "1          watches_gifts         5624     1205005.68\n",
       "2         bed_bath_table         9417     1036988.68\n",
       "3         sports_leisure         7720      988048.97\n",
       "4  computers_accessories         6689      911954.32\n",
       "5        furniture_decor         6449      729762.49\n",
       "6             cool_stuff         3632      635290.85\n",
       "7             housewares         5884      632248.66\n",
       "8                   auto         3897      592720.11\n",
       "9           garden_tools         3518      485256.46"
      ]
     },
     "execution_count": 4,
     "metadata": {},
     "output_type": "execute_result"
    }
   ],
   "source": [
    "# Query 1: Revenue by Category\n",
    "# TODO: Complete this query\n",
    "\n",
    "result_q1 = con.execute(\"\"\"\n",
    "    SELECT \n",
    "        cat.product_category_name_english AS category_english,\n",
    "        COUNT(DISTINCT oi.order_id) AS order_count,\n",
    "        SUM(oi.price) AS total_revenue\n",
    "    FROM order_items oi\n",
    "    INNER JOIN products p ON oi.product_id = p.product_id\n",
    "    INNER JOIN categories cat ON p.product_category_name = cat.product_category_name\n",
    "    GROUP BY category_english\n",
    "    ORDER BY total_revenue DESC\n",
    "    LIMIT 10\n",
    "\"\"\").df()\n",
    "\n",
    "result_q1"
   ]
  },
  {
   "cell_type": "code",
   "execution_count": 8,
   "id": "95731692",
   "metadata": {},
   "outputs": [
    {
     "name": "stdout",
     "output_type": "stream",
     "text": [
      "✅ Query 1 validation passed!\n"
     ]
    }
   ],
   "source": [
    "# Validation: Check your results\n",
    "assert result_q1.shape[0] == 10, \"Should return 10 categories\"\n",
    "\n",
    "# Check for revenue column with better error message\n",
    "cols_lower = [col.lower() for col in result_q1.columns]\n",
    "assert any('revenue' in col for col in cols_lower), f\"'revenue' is not found in any lowercased column naem. Found: {result_q1.columns.tolist()}\"\n",
    "\n",
    "print(\"✅ Query 1 validation passed!\")"
   ]
  },
  {
   "cell_type": "markdown",
   "id": "7f6f5b03",
   "metadata": {},
   "source": [
    "**Your interpretation for Paula (2-3 sentences):**\n",
    "\n",
    "We have three categories with revenues above 1 million reales: Health & Beauty, Watches & Gifts and Bed, Bath & Table. If we expect even bigger revenue potential here, channel more funds into these categories. For deeper dive, it'd nice to check last year's ata and see fastest growing categories.\n",
    "\n",
    "---"
   ]
  },
  {
   "cell_type": "markdown",
   "id": "c730b8ae",
   "metadata": {},
   "source": [
    "### Query 2: Unreviewed Orders Investigation (⏱️ 7 minutes)\n",
    "\n",
    "**Paula's Question:**\n",
    "> \"Some orders don't have customer reviews. This concerns me - we use reviews for quality control and seller ratings. Find all orders that lack reviews and tell me: how many unreviewed orders are there by order status? Which statuses have the most unreviewed orders?\"\n",
    "\n",
    "**What you need to do:**\n",
    "- LEFT JOIN `orders` → `reviews` (keep all orders, even without reviews)\n",
    "- Filter to orders WHERE review is NULL\n",
    "- Group by order status\n",
    "- Count unreviewed orders by status\n",
    "\n",
    "**Why LEFT JOIN?** We want ALL orders. INNER JOIN would only show orders WITH reviews (the opposite of what Paula needs!).\n",
    "\n",
    "**Tables needed:**\n",
    "- `orders` (has `order_id` and `order_status`)\n",
    "- `reviews` (has `review_id` and links to `order_id`)\n",
    "\n",
    "**Join key:**\n",
    "- `orders.order_id = reviews.order_id`"
   ]
  },
  {
   "cell_type": "code",
   "execution_count": 11,
   "id": "a3bb70bd",
   "metadata": {},
   "outputs": [
    {
     "data": {
      "application/vnd.microsoft.datawrangler.viewer.v0+json": {
       "columns": [
        {
         "name": "index",
         "rawType": "int64",
         "type": "integer"
        },
        {
         "name": "order_status",
         "rawType": "object",
         "type": "string"
        },
        {
         "name": "unreviewed_count",
         "rawType": "int64",
         "type": "integer"
        }
       ],
       "ref": "d24cf351-eebc-434f-8e88-2fe15f71a656",
       "rows": [
        [
         "0",
         "delivered",
         "646"
        ],
        [
         "1",
         "shipped",
         "75"
        ],
        [
         "2",
         "canceled",
         "20"
        ],
        [
         "3",
         "unavailable",
         "14"
        ],
        [
         "4",
         "processing",
         "6"
        ],
        [
         "5",
         "invoiced",
         "5"
        ],
        [
         "6",
         "created",
         "2"
        ]
       ],
       "shape": {
        "columns": 2,
        "rows": 7
       }
      },
      "text/html": [
       "<div>\n",
       "<style scoped>\n",
       "    .dataframe tbody tr th:only-of-type {\n",
       "        vertical-align: middle;\n",
       "    }\n",
       "\n",
       "    .dataframe tbody tr th {\n",
       "        vertical-align: top;\n",
       "    }\n",
       "\n",
       "    .dataframe thead th {\n",
       "        text-align: right;\n",
       "    }\n",
       "</style>\n",
       "<table border=\"1\" class=\"dataframe\">\n",
       "  <thead>\n",
       "    <tr style=\"text-align: right;\">\n",
       "      <th></th>\n",
       "      <th>order_status</th>\n",
       "      <th>unreviewed_count</th>\n",
       "    </tr>\n",
       "  </thead>\n",
       "  <tbody>\n",
       "    <tr>\n",
       "      <th>0</th>\n",
       "      <td>delivered</td>\n",
       "      <td>646</td>\n",
       "    </tr>\n",
       "    <tr>\n",
       "      <th>1</th>\n",
       "      <td>shipped</td>\n",
       "      <td>75</td>\n",
       "    </tr>\n",
       "    <tr>\n",
       "      <th>2</th>\n",
       "      <td>canceled</td>\n",
       "      <td>20</td>\n",
       "    </tr>\n",
       "    <tr>\n",
       "      <th>3</th>\n",
       "      <td>unavailable</td>\n",
       "      <td>14</td>\n",
       "    </tr>\n",
       "    <tr>\n",
       "      <th>4</th>\n",
       "      <td>processing</td>\n",
       "      <td>6</td>\n",
       "    </tr>\n",
       "    <tr>\n",
       "      <th>5</th>\n",
       "      <td>invoiced</td>\n",
       "      <td>5</td>\n",
       "    </tr>\n",
       "    <tr>\n",
       "      <th>6</th>\n",
       "      <td>created</td>\n",
       "      <td>2</td>\n",
       "    </tr>\n",
       "  </tbody>\n",
       "</table>\n",
       "</div>"
      ],
      "text/plain": [
       "  order_status  unreviewed_count\n",
       "0    delivered               646\n",
       "1      shipped                75\n",
       "2     canceled                20\n",
       "3  unavailable                14\n",
       "4   processing                 6\n",
       "5     invoiced                 5\n",
       "6      created                 2"
      ]
     },
     "execution_count": 11,
     "metadata": {},
     "output_type": "execute_result"
    }
   ],
   "source": [
    "# Query 2: Unreviewed Orders\n",
    "# TODO: Complete this query\n",
    "\n",
    "result_q2 = con.execute(\"\"\"\n",
    "    SELECT \n",
    "        o.order_status,\n",
    "        COUNT(*) AS unreviewed_count\n",
    "    FROM orders o\n",
    "    LEFT JOIN reviews r ON o.order_id = r.order_id\n",
    "    WHERE r.review_id IS NULL\n",
    "    GROUP BY order_status\n",
    "    ORDER BY unreviewed_count DESC\n",
    "\"\"\").df()\n",
    "\n",
    "result_q2"
   ]
  },
  {
   "cell_type": "code",
   "execution_count": null,
   "id": "76d6ca39",
   "metadata": {},
   "outputs": [],
   "source": [
    "# Validation: Check your results\n",
    "assert result_q2.shape[0] > 0, \"Should find some unreviewed orders\"\n",
    "assert 'order_status' in [col.lower() for col in result_q2.columns], \"Should have order_status column\"\n",
    "assert any('count' in col.lower() for col in result_q2.columns), \"Should have a count column (e.g., unreviewed_count, order_count)\"\n",
    "print(\"✅ Query 2 validation passed!\")"
   ]
  },
  {
   "cell_type": "markdown",
   "id": "add65be4",
   "metadata": {},
   "source": [
    "**Your interpretation for Paula (2-3 sentences):**\n",
    "\n",
    "[Write your business insight here: How many total unreviewed orders are there? Which order statuses have the most unreviewed orders? Should Paula be concerned about review gaps in certain order statuses?]\n",
    "\n",
    "---"
   ]
  },
  {
   "cell_type": "markdown",
   "id": "33f7205d",
   "metadata": {},
   "source": [
    "### Query 3: Top Sellers by State (⏱️ 7 minutes)\n",
    "\n",
    "**Paula's Question:**\n",
    "> \"I need to recognize our top-performing sellers in each state for our quarterly awards program. Show me the top 3 sellers in each state by total revenue. This will also help us identify which states have strong seller ecosystems.\"\n",
    "\n",
    "**What you need to do:**\n",
    "- Join `order_items` → `sellers`\n",
    "- Calculate total revenue per seller\n",
    "- Rank sellers within each state (use ROW_NUMBER() window function from Day 1!)\n",
    "- Filter to top 3 per state\n",
    "\n",
    "**Hint:** Use a CTE for clean structure:\n",
    "1. First CTE: Calculate seller revenue\n",
    "2. Second CTE: Add ranking with ROW_NUMBER() OVER (PARTITION BY state ...) - this will assign ranks 1, 2, 3... to sellers within each state, ordered by revenue\n",
    "3. Main query: Filter WHERE rank <= 3\n",
    "\n",
    "**Note:** The query includes `LIMIT 30` to show approximately the top 10 states (10 states × 3 sellers = 30 rows, though some states may have fewer sellers). This keeps output manageable for review. In a real analysis, you'd remove the LIMIT to see all states.\n",
    "\n",
    "**Tables needed:**\n",
    "- `order_items` (has `price` and `seller_id`)\n",
    "- `sellers` (has `seller_state`)\n",
    "\n",
    "**Join key:**\n",
    "- `order_items.seller_id = sellers.seller_id`"
   ]
  },
  {
   "cell_type": "code",
   "execution_count": null,
   "id": "4793d84b",
   "metadata": {},
   "outputs": [],
   "source": [
    "# Query 3: Top Sellers by State\n",
    "# TODO: Complete this query\n",
    "\n",
    "result_q3 = con.execute(\"\"\"\n",
    "    WITH seller_revenue AS (\n",
    "        -- TODO: Calculate total revenue per seller\n",
    "        SELECT \n",
    "            -- TODO: Select seller_id, seller_state\n",
    "            -- TODO: Count distinct orders AS order_count\n",
    "            -- TODO: Sum price AS total_revenue\n",
    "        FROM order_items oi\n",
    "        -- TODO: INNER JOIN to sellers table (ON oi.seller_id = s.seller_id)\n",
    "        -- TODO: GROUP BY seller_id, seller_state\n",
    "    ),\n",
    "    ranked_sellers AS (\n",
    "        -- TODO: Add ranking within each state\n",
    "        SELECT \n",
    "            *,\n",
    "            -- TODO: Add ROW_NUMBER() OVER (PARTITION BY seller_state ORDER BY total_revenue DESC) AS rank_in_state\n",
    "        FROM seller_revenue\n",
    "    )\n",
    "    -- TODO: SELECT * FROM ranked_sellers WHERE rank_in_state <= 3\n",
    "    -- TODO: ORDER BY seller_state, rank_in_state\n",
    "    LIMIT 30\n",
    "\"\"\").df()\n",
    "\n",
    "result_q3"
   ]
  },
  {
   "cell_type": "code",
   "execution_count": null,
   "id": "e5a01421",
   "metadata": {},
   "outputs": [],
   "source": [
    "# Validation: Check your results\n",
    "assert result_q3.shape[0] > 0, \"Should find top sellers\"\n",
    "assert result_q3.shape[0] <= 30, \"Limited to 30 rows (top 10 states × 3 sellers)\"\n",
    "# Check for required columns\n",
    "assert any('state' in col.lower() for col in result_q3.columns), \"Should have seller_state column\"\n",
    "assert any('rank' in col.lower() for col in result_q3.columns), \"Should have rank column (e.g., rank_in_state)\"\n",
    "assert any('revenue' in col.lower() for col in result_q3.columns), \"Should have revenue column (e.g., total_revenue)\"\n",
    "print(\"✅ Query 3 validation passed!\")"
   ]
  },
  {
   "cell_type": "markdown",
   "id": "b19e3955",
   "metadata": {},
   "source": [
    "**Your interpretation for Paula (2-3 sentences):**\n",
    "\n",
    "[Write your business insight here: Which states have the highest-revenue sellers? Are revenues concentrated among a few top sellers or distributed evenly?]\n",
    "\n",
    "---"
   ]
  },
  {
   "cell_type": "markdown",
   "id": "0574431e",
   "metadata": {},
   "source": [
    "## In-Class Reflection (3-4 sentences)\n",
    "\n",
    "**Based on your three queries above, write a brief summary for Paula:**\n",
    "\n",
    "1. What are the key insights from the data?\n",
    "2. What surprised you?\n",
    "3. What should Paula focus on first?\n",
    "\n",
    "[Write your reflection here]\n",
    "\n",
    "---\n",
    "\n",
    "**🎉 Great work! You've completed the in-class portion. The queries below are homework.**\n",
    "\n",
    "---"
   ]
  },
  {
   "cell_type": "markdown",
   "id": "5474879c",
   "metadata": {},
   "source": [
    "## Part 2: Homework Queries (Complete after class)\n",
    "\n",
    "These queries build on what you learned in class. They are less scaffolded - you'll need to figure out the full query structure yourself.\n",
    "\n",
    "---"
   ]
  },
  {
   "cell_type": "markdown",
   "id": "75d9654a",
   "metadata": {},
   "source": [
    "### Query 4: Customer Geography Analysis\n",
    "\n",
    "**Paula's Question:**\n",
    "> \"Which states have customers with the highest average order value? Calculate the average revenue per order by customer state. This will inform our regional marketing budget allocation.\"\n",
    "\n",
    "**Hint:** \n",
    "- Join `orders` → `customers` → `order_items`\n",
    "- Calculate total order value: SUM(price) per order_id\n",
    "- Then average by customer_state\n",
    "- Consider using a CTE to get order-level revenue first\n",
    "\n",
    "**Expected result:** One row per state, with average order value"
   ]
  },
  {
   "cell_type": "code",
   "execution_count": null,
   "id": "0a61b35a",
   "metadata": {},
   "outputs": [],
   "source": [
    "# Query 4: Customer Geography (Homework)\n",
    "# Write your query here\n",
    "\n",
    "result_q4 = con.execute(\"\"\"\n",
    "    -- Your query here\n",
    "    SELECT 1 as todo  -- Replace this entire query\n",
    "\"\"\").df()\n",
    "\n",
    "result_q4"
   ]
  },
  {
   "cell_type": "markdown",
   "id": "679ac607",
   "metadata": {},
   "source": [
    "**Your interpretation for Paula:**\n",
    "\n",
    "[Write your analysis here]\n",
    "\n",
    "---"
   ]
  },
  {
   "cell_type": "markdown",
   "id": "c3ce3d6f",
   "metadata": {},
   "source": [
    "### Query 5: Product Quality Issues\n",
    "\n",
    "**Paula's Question:**\n",
    "> \"Identify products with average review scores below 2.5 stars AND at least 5 reviews. These products need immediate seller intervention. Show me product category, average rating, and review count.\"\n",
    "\n",
    "**Hint:**\n",
    "- Join `products` → `order_items` → `orders` → `reviews`\n",
    "- Group by product_id and category\n",
    "- Calculate AVG(review_score) and COUNT(reviews)\n",
    "- Use HAVING clause to filter: AVG < 2.5 AND COUNT >= 5\n",
    "\n",
    "**Expected result:** Products with poor ratings (at least 5 reviews)"
   ]
  },
  {
   "cell_type": "code",
   "execution_count": null,
   "id": "fb2c7a2d",
   "metadata": {},
   "outputs": [],
   "source": [
    "# Query 5: Product Quality Issues (Homework)\n",
    "# Write your query here\n",
    "\n",
    "result_q5 = con.execute(\"\"\"\n",
    "    -- Your query here\n",
    "    SELECT 1 as todo  -- Replace this entire query\n",
    "\"\"\").df()\n",
    "\n",
    "result_q5"
   ]
  },
  {
   "cell_type": "markdown",
   "id": "cf496c45",
   "metadata": {},
   "source": [
    "**Your interpretation for Paula:**\n",
    "\n",
    "[Write your analysis here]\n",
    "\n",
    "---"
   ]
  },
  {
   "cell_type": "markdown",
   "id": "dbc088ec",
   "metadata": {},
   "source": [
    "### Query 6 (BONUS): Seller Performance Gaps\n",
    "\n",
    "**Paula's Question:**\n",
    "> \"Which sellers have made sales but NEVER received a review? This could indicate a data quality issue or problematic seller behavior. Find these sellers and calculate their total revenue.\"\n",
    "\n",
    "**Hint:**\n",
    "- This is a complex multi-table LEFT JOIN\n",
    "- Chain: `sellers` → `order_items` → `orders` → `reviews`\n",
    "- Use LEFT JOINs to keep sellers even if reviews don't exist\n",
    "- Filter WHERE review_id IS NULL\n",
    "- Group by seller to get total revenue\n",
    "\n",
    "**Expected result:** Sellers with sales but zero reviews"
   ]
  },
  {
   "cell_type": "code",
   "execution_count": null,
   "id": "4eca9a35",
   "metadata": {},
   "outputs": [],
   "source": [
    "# Query 6: Seller Performance Gaps (BONUS - Homework)\n",
    "# Write your query here\n",
    "\n",
    "result_q6 = con.execute(\"\"\"\n",
    "    -- Your query here (this one is challenging!)\n",
    "    SELECT 1 as todo  -- Replace this entire query\n",
    "\"\"\").df()\n",
    "\n",
    "result_q6"
   ]
  },
  {
   "cell_type": "markdown",
   "id": "59ebc042",
   "metadata": {},
   "source": [
    "**Your interpretation for Paula:**\n",
    "\n",
    "[Write your analysis here]\n",
    "\n",
    "---"
   ]
  },
  {
   "cell_type": "markdown",
   "id": "93a83310",
   "metadata": {},
   "source": [
    "## Executive Summary for Paula (Homework)\n",
    "\n",
    "Write an 8-10 sentence summary for Paula Costa to present at the board meeting. Remember:\n",
    "- Paula is non-technical (avoid SQL jargon)\n",
    "- Focus on business impact, not query mechanics\n",
    "- Include specific numbers from your analysis\n",
    "- Make clear recommendations\n",
    "\n",
    "**Structure:**\n",
    "1. **Opening:** What did you analyze and why?\n",
    "2. **Key findings:** 3-4 main insights from your queries\n",
    "3. **Business impact:** What do these findings mean for Olist?\n",
    "4. **Recommendations:** 2-3 specific actions Paula should take\n",
    "\n",
    "---\n",
    "\n",
    "### Executive Summary\n",
    "\n",
    "[Write your 8-10 sentence executive summary here. Start with: \"Paula, I analyzed our marketplace data from 2016-2018 to understand revenue drivers, seller performance, and customer engagement. Here's what I found...\"]\n",
    "\n",
    "---"
   ]
  },
  {
   "cell_type": "markdown",
   "id": "3301cfd8",
   "metadata": {},
   "source": [
    "## Submission Checklist\n",
    "\n",
    "**Before submitting, verify:**\n",
    "\n",
    "- [ ] All 3 in-class queries (Q1-Q3) complete and working\n",
    "- [ ] All validation cells pass (no assertion errors)\n",
    "- [ ] Interpretations written for each query (2-3 sentences)\n",
    "- [ ] In-class reflection completed (3-4 sentences)\n",
    "- [ ] Homework queries (Q4-Q6) attempted\n",
    "- [ ] Executive summary written (8-10 sentences)\n",
    "- [ ] Notebook runs end-to-end: **\"Restart & Run All\"** succeeds\n",
    "- [ ] All outputs visible (don't clear them!)\n",
    "- [ ] File renamed to: `day2_exercise_joins_[your_name].ipynb`\n",
    "\n",
    "**Upload to Moodle by: Start of next class**\n",
    "\n",
    "---\n",
    "\n",
    "**Great work! 🎉 You've applied SQL joins to solve real business problems!**"
   ]
  }
 ],
 "metadata": {
  "kernelspec": {
   "display_name": "ECBS5294",
   "language": "python",
   "name": "python3"
  },
  "language_info": {
   "codemirror_mode": {
    "name": "ipython",
    "version": 3
   },
   "file_extension": ".py",
   "mimetype": "text/x-python",
   "name": "python",
   "nbconvert_exporter": "python",
   "pygments_lexer": "ipython3",
   "version": "3.14.0"
  }
 },
 "nbformat": 4,
 "nbformat_minor": 5
}
